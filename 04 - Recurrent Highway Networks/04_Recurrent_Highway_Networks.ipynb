{
  "nbformat": 4,
  "nbformat_minor": 0,
  "metadata": {
    "colab": {
      "name": "04 - Recurrent Highway Networks",
      "version": "0.3.2",
      "provenance": [],
      "collapsed_sections": []
    },
    "kernelspec": {
      "name": "python3",
      "display_name": "Python 3"
    },
    "accelerator": "GPU"
  },
  "cells": [
    {
      "metadata": {
        "id": "DqSKYspRsb27",
        "colab_type": "text"
      },
      "cell_type": "markdown",
      "source": [
        "# 04 - Recurrent Highway Networks\n",
        "By Jan Christian Blaise B. Cruz"
      ]
    },
    {
      "metadata": {
        "id": "Hmz6-ggi6HYp",
        "colab_type": "text"
      },
      "cell_type": "markdown",
      "source": [
        "In the past notebooks, we've been building up on architectures that had a Long-Short Term Memory (Hochreiter & Schmidhuber, 1997) as the model backbone. In this notebook, we'll explore the use of a different recurrence strategy and a new architecture, called Recurrent Highway Networks (Zilly et al., 2017).\n",
        "\n",
        "Let's start with the imports."
      ]
    },
    {
      "metadata": {
        "id": "fVmQ28x9_5o5",
        "colab_type": "code",
        "colab": {}
      },
      "cell_type": "code",
      "source": [
        "import torch\n",
        "import torch.nn as nn\n",
        "import torch.optim as optim\n",
        "from torch.autograd import Variable\n",
        "\n",
        "from torchtext.data import Field, BPTTIterator\n",
        "from torchtext.datasets import PennTreebank\n",
        "import spacy\n",
        "\n",
        "import numpy as np\n",
        "import pandas as pd\n",
        "from tqdm import tqdm\n",
        "\n",
        "device = torch.device('cuda' if torch.cuda.is_available() else 'cpu')\n",
        "torch.manual_seed(42)\n",
        "torch.backends.cudnn.deterministic = True"
      ],
      "execution_count": 0,
      "outputs": []
    },
    {
      "metadata": {
        "id": "vLR1_Eg9p8rq",
        "colab_type": "text"
      },
      "cell_type": "markdown",
      "source": [
        "We'll use the Torchtext library to load and prepare our dataset. Again, we'll use the Penn Treebank, splitting them into train, valid, and test sets, tokenizing them with SpaCy's english tokenizer, and building the vocabulary with words of frequency of at least 2."
      ]
    },
    {
      "metadata": {
        "id": "LPGtGRnKEm2x",
        "colab_type": "code",
        "colab": {
          "base_uri": "https://localhost:8080/",
          "height": 34
        },
        "outputId": "4562e66e-8678-430f-9f9c-19cf33dad6e2"
      },
      "cell_type": "code",
      "source": [
        "# Tokenizer\n",
        "spacy_en = spacy.load('en')\n",
        "def tokenize(s):\n",
        "    return [tok.text for tok in spacy_en.tokenizer(s)]\n",
        "\n",
        "# Prepare a field and get the data\n",
        "TEXT = Field(lower=True, tokenize=tokenize)\n",
        "train_data, valid_data, test_data = PennTreebank.splits(TEXT)\n",
        "\n",
        "# Build the vocabulary\n",
        "TEXT.build_vocab(train_data, min_freq=2)\n",
        "print(\"Vocab size: {}\".format(len(TEXT.vocab)))"
      ],
      "execution_count": 15,
      "outputs": [
        {
          "output_type": "stream",
          "text": [
            "Vocab size: 9702\n"
          ],
          "name": "stdout"
        }
      ]
    },
    {
      "metadata": {
        "id": "lV-qUGImqNPX",
        "colab_type": "text"
      },
      "cell_type": "markdown",
      "source": [
        "We'll batch them, again using the ```BPTTIterator``` following common conventions on batch size and sequence length."
      ]
    },
    {
      "metadata": {
        "id": "Z6auxsasEnv9",
        "colab_type": "code",
        "colab": {}
      },
      "cell_type": "code",
      "source": [
        "batch_size = 40\n",
        "bptt_len = 35\n",
        "\n",
        "train_loader, valid_loader, test_loader = BPTTIterator.splits(\n",
        "    (train_data, valid_data, test_data), \n",
        "    batch_size=batch_size, bptt_len=bptt_len, \n",
        "    device=device, \n",
        "    repeat=False\n",
        ")"
      ],
      "execution_count": 0,
      "outputs": []
    },
    {
      "metadata": {
        "id": "7Tk9c2inqrBC",
        "colab_type": "text"
      },
      "cell_type": "markdown",
      "source": [
        "For convenience, we'll define recurrent dropout like we did in the previous notebooks."
      ]
    },
    {
      "metadata": {
        "id": "ECDP0mwaE1in",
        "colab_type": "code",
        "colab": {}
      },
      "cell_type": "code",
      "source": [
        "# Credits to the contributors at fast.ai\n",
        "def dropout_mask(x, sz, p):\n",
        "    return x.new(*sz).bernoulli_(1-p).div_(1-p)\n",
        "  \n",
        "class RNNDropout(nn.Module):\n",
        "    def __init__(self, p=0.5):\n",
        "        super().__init__()\n",
        "        self.p=p\n",
        "\n",
        "    def forward(self, x):\n",
        "        if not self.training or self.p == 0.: \n",
        "          return x\n",
        "        m = dropout_mask(x.data, (x.size(0), 1, x.size(2)), self.p)\n",
        "        return x * m"
      ],
      "execution_count": 0,
      "outputs": []
    },
    {
      "metadata": {
        "id": "oYCs_H4Z01Iu",
        "colab_type": "text"
      },
      "cell_type": "markdown",
      "source": [
        "# Motivations\n"
      ]
    },
    {
      "metadata": {
        "id": "FHP7NpfIE1-C",
        "colab_type": "text"
      },
      "cell_type": "markdown",
      "source": [
        "Before we dive in to **Recurrent Highway Networks**, we first set some movitvations.\n",
        "\n",
        "### Residual Layers\n",
        "\n",
        "A **Residual connection** (He et al., 2015) in a neural network is a mechanism that mitigates vanishing gradients via \"skip connections\" that allow smooth gradient flow. Using residual connections aid in training of deep neural networks and this has been shown over time with empirical results. Given an input vector $x \\in \\mathbb{R}^n$, the output for a certain layer in a residual neural network is given by:\n",
        "\n",
        "$$y = f(W x + b) + x$$\n",
        "\n",
        "where $W$ and $b$ are the weight matrix and the bias vector of the layer and $f$ is a nonlinear activation function. Residual layers have success stories in many applications and have found homes in state-of-the-art architectures, such as the ResNet (He et al., 2015) series in computer vision, and BERT (Devlin et al., 2019) in natural language processing. "
      ]
    },
    {
      "metadata": {
        "id": "5R7NDo8vJ50U",
        "colab_type": "text"
      },
      "cell_type": "markdown",
      "source": [
        "### Highway Layers\n",
        "\n",
        "A modification to the residual layer is the **Highway Layer** (Srivastava et al.,  2015a). Inspired by gating mechanisms in the Long-Short Term Memory (Hochreiter & Schmidhuber, 1997), the highway layer uses gates to control how much information to pass and how much information to retain from the skip connection via learned weights.\n",
        "\n",
        "Given $h = H(x, W_H)$, $t = T(x, W_T)$, and $c = C(x, W_C)$ where $h$, $t$, and $c$ are the results of nonlinear transforms $H$, $T$, and $C$ with associated weight matrices $W_{H, T, C}$ and biases $b_{H, T, C}$, the output $y$ of a highway layer is computed as:\n",
        "\n",
        "$$y = h \\odot t + x \\odot c$$\n",
        "\n",
        "Where $\\odot$ is the hadamard (elementwise) product operation. In practice, $H$ often uses the $tanh$ nonlinearity, and the $T$ and $C$ use the sigmoid ($\\sigma$) nonlinearity.\n",
        "\n",
        "$H$ can often be thought of as the \"main non-linear transform\" of the input $x$. $T$ and $C$ act as gates, controling from a range of $[0, 1]$ how much of the transformed input and the original input are to be carried over. In practice, a suggestion from the Highway networks paper is to couple the $C$ gate to the output of the $T$ gate by setting $C(\\cdot) = 1 - T(\\cdot)$. This reduces the parameters to optimize and could prevent an unbounded blow-up of states, which makes optimization smoother. However, this imposes a modeling bias, which could prove suboptimal for certain tasks (Greff et al., 2015; Jozefowicz et al., 2015)."
      ]
    },
    {
      "metadata": {
        "id": "aYiWPvNqKBe_",
        "colab_type": "text"
      },
      "cell_type": "markdown",
      "source": [
        "### Recurrrent Highways\n",
        "A **Recurrent Highway** (Zilly et al., 2017) adapts the idea of a highway layer to include a recurrence mechanism, acting as a drop-in replacement for LSTMs or other gated-RNNs for a variety of sequence modeling tasks. An improvement that recurrent highways have is a timestep-to-timestep transition larger than one, as opposed to common gated-RNNs.\n",
        "\n",
        "Recall that a general RNN transition given $s$ timesteps is in the form:\n",
        "\n",
        "$$y^{[s]} = f(Wx^{[s]} + Ry^{[s - 1]} + b)$$\n",
        "\n",
        "A one-depth Recurrent Highway Network transition is given by:\n",
        "\n",
        "$$ h^{[s]} = tanh(W_{H}x^{[s]} + R_{H}y^{[s - 1]} + b) $$\n",
        "$$ t^{[s]} = \\sigma(W_{T}x^{[s]} + R_{T}y^{[s - 1]} + b) $$\n",
        "$$ c^{[s]} = 1 - t^{[s]} $$\n",
        "$$ y^{[s]} = h^{[s]} \\odot t^{[s]} + y^{[s - 1]} \\odot c^{[s]} $$\n",
        "\n",
        "By stacking multiple recurrent highways on top of each other, we could achieve a larger timestep-to-timestep transition. Given $L$ layers,  $l = \\{1, 2, ..., L\\}$ \"ticks\" in each timestep, and $s_l$ as the intermediate output between stacked layers, the recurrence can be expanded to:\n",
        "\n",
        "$$h^{[s]}_l = tanh(W_Hx^{[s]}\\mathcal{I}_{\\{l=1\\}} + R_{H_l}s^{[s]}_{l-1} + b_{H_l})$$\n",
        "$$t^{[s]}_l = \\sigma(W_Tx^{[s]}\\mathcal{I}_{\\{l=1\\}} + R_{T_l}s^{[s]}_{l-1} + b_{T_l})$$\n",
        "$$c^{[s]}_l = \\sigma(W_Cx^{[s]}\\mathcal{I}_{\\{l=1\\}} + R_{C_l}s^{[s]}_{l-1} + b_{C_l})$$\n",
        "$$s^{[t]}_0 = y^{[t-1]}$$\n",
        "$$s^{[t]}_l = h^{[s]}_l \\odot t^{[s]}_l + s^{[t]}_l-1 \\odot c^{[s]}_l$$\n",
        "\n",
        "where $\\mathcal{I}$ is the indicator function. Like in the standard highway layer and the one-depth recurrent highway, the $C$ and $T$ gates can be coupled setting $c^{[s]}_l = 1 - t^{[s]}_l$, reducing the numer of parameters to optimize. We can introduce recurrent dropout (Semeniuta et al., 2014) on $t$ as a one hyperparameter for all layers. The recurrent highway can be used as a drop-in replacement to any gated-RNN cell in any sequence-modeling architecture.\n",
        "\n",
        "We construct our highway layer block such that it can be used as a standard highway layer or can be stacked in a recurrent highway layer. The ```first``` argument should set to ```True``` when stacking (see indicator function when $l = 1$ in the equations.) We can set the option to ```couple``` $C$ and $T$ as well. We also use recurrent dropout on $t$ as needed."
      ]
    },
    {
      "metadata": {
        "id": "MEFufMSjEp28",
        "colab_type": "code",
        "colab": {}
      },
      "cell_type": "code",
      "source": [
        "class HighwayBlock(nn.Module):\n",
        "    \"\"\" Highway Layer Block. Can be used as a highway layer or stacked into a recurrent highway. \"\"\"\n",
        "    def __init__(self, in_features, out_features, first=False, couple=False, dropout=0.0):\n",
        "        super(HighwayBlock, self).__init__()\n",
        "        self.first = first\n",
        "        self.couple = couple\n",
        "        if first:\n",
        "            self.W_H = nn.Linear(in_features, out_features, bias=False)\n",
        "            self.W_T = nn.Linear(in_features, out_features, bias=False)\n",
        "            if not couple: self.W_C = nn.Linear(in_features, out_features, bias=False)\n",
        "        self.R_H = nn.Linear(in_features, out_features)\n",
        "        self.R_T = nn.Linear(in_features, out_features)\n",
        "        if not couple: self.R_C = nn.Linear(in_features, out_features)\n",
        "        self.dropout = RNNDropout(dropout)\n",
        "    \n",
        "    def forward(self, x, s):\n",
        "        if self.first:\n",
        "            h = torch.tanh(self.W_H(x) + self.R_H(x))\n",
        "            t = torch.sigmoid(self.W_T(x) + self.R_T(x))\n",
        "            if self.couple:\n",
        "                c = 1 - t\n",
        "            else:\n",
        "                c = torch.sigmoid(self.W_C(x) + self.R_C(x))\n",
        "        else:\n",
        "            h = torch.tanh(self.R_H(x))\n",
        "            t = torch.sigmoid(self.R_T(x))\n",
        "            if self.couple:\n",
        "                c = 1 - t\n",
        "            else:\n",
        "                c = torch.sigmoid(self.R_C(x))\n",
        "        t = self.dropout(t.unsqueeze(0)).squeeze(0)\n",
        "        \n",
        "        return h * t + s * c"
      ],
      "execution_count": 0,
      "outputs": []
    },
    {
      "metadata": {
        "id": "0mGhsfZOj71R",
        "colab_type": "text"
      },
      "cell_type": "markdown",
      "source": [
        "The recurrent highway is simply a wrapper for a stacked highway block. We overload ```forward``` to apply the recurrence. In practice, this layer can be used as a direct replacement for a gated-RNN layer, and functions quite similar to a Gated Recurrent Unit (Cho et al., 2014) albeit with a larger timestep-to-timestep transition.\n",
        "\n",
        "Like other RNN layers, it expects inputs of dimensions ```[seq_len, bs, inp_dim]```. We definte it like so."
      ]
    },
    {
      "metadata": {
        "id": "M-ZlhJcgj7Q5",
        "colab_type": "code",
        "colab": {}
      },
      "cell_type": "code",
      "source": [
        "class RecurrentHighway(nn.Module):\n",
        "    \"\"\"Recurrent Highway Layer. Stacks highway blocks with a recurrence mechanism. Replaces LSTM/GRU.\"\"\"\n",
        "    def __init__(self, in_features, out_features, recurrence_depth=5, couple=False, dropout=0):\n",
        "        super(RecurrentHighway, self).__init__()\n",
        "        self.highways = [HighwayBlock(in_features, out_features, \n",
        "                                      first=True if l == 0 else False, \n",
        "                                      couple=couple, dropout=dropout) for l in range(recurrence_depth)]\n",
        "        self.highways = nn.ModuleList(self.highways)\n",
        "        self.recurrence_depth=recurrence_depth\n",
        "        self.hidden_dim = out_features\n",
        "    \n",
        "    def forward(self, inp, hidden):\n",
        "        # expects input dimensions [seq_len, bs, inp_dim]\n",
        "        outputs = []\n",
        "        for x in inp:\n",
        "            for block in self.highways:\n",
        "                hidden = block(x, hidden)\n",
        "                \n",
        "            outputs.append(hidden)\n",
        "        outputs = torch.stack(outputs)\n",
        "        return outputs, hidden"
      ],
      "execution_count": 0,
      "outputs": []
    },
    {
      "metadata": {
        "id": "zDLqC34Tne_A",
        "colab_type": "text"
      },
      "cell_type": "markdown",
      "source": [
        "# Recurrent Highway Language Model"
      ]
    },
    {
      "metadata": {
        "id": "055KqbqFkXdp",
        "colab_type": "text"
      },
      "cell_type": "markdown",
      "source": [
        "We can then adapt this to a language model architecture. We explicitly separate multiple layers of recurrent highways so that we can use \"hidden-to-hidden\" dropout as a regularization tactic. We also add in the option to tie the weights."
      ]
    },
    {
      "metadata": {
        "id": "mH0udzxnErjW",
        "colab_type": "code",
        "colab": {}
      },
      "cell_type": "code",
      "source": [
        "class RHNLanguageModel(nn.Module):\n",
        "    def __init__(self, vocab_sz, embedding_dim, hidden_dim, recurrence_depth=1, \n",
        "                 num_layers=1, hidden_dp=0.65, recur_dp=0.3, tie_weights=True, couple=False):\n",
        "        super(RHNLanguageModel, self).__init__()\n",
        "        self.embedding = nn.Embedding(vocab_sz, embedding_dim)\n",
        "        self.rnns = [RecurrentHighway(embedding_dim if l == 0 else hidden_dim, \n",
        "                                      (hidden_dim if l != num_layers - 1 else embedding_dim) if tie_weights else hidden_dim, \n",
        "                                      recurrence_depth=recurrence_depth, couple=couple, dropout=recur_dp) for l in range(num_layers)]\n",
        "        self.rnns = nn.ModuleList(self.rnns)\n",
        "        self.fc1 = nn.Linear(embedding_dim if tie_weights else hidden_dim, vocab_sz)\n",
        "        self.hidden_dropout = RNNDropout(hidden_dp)\n",
        "        \n",
        "        if tie_weights:\n",
        "            self.fc1.weight = self.embedding.weight\n",
        "        \n",
        "    def init_hidden(self, bs):\n",
        "        # Returns a list of zeroed hidden states of dimensions [bs, hidden_dim]\n",
        "        weight = next(self.parameters()).data\n",
        "        hidden = [weight.new(bs, rnn.hidden_dim).zero_() for rnn in self.rnns]\n",
        "        \n",
        "        return hidden\n",
        "    \n",
        "    def forward(self, x):\n",
        "        bptt_len, bs = x.shape\n",
        "        vocab_sz = self.embedding.num_embeddings\n",
        "        \n",
        "        out = self.embedding(x) \n",
        "        \n",
        "        hiddens = self.init_hidden(bs)\n",
        "        for i, rnn in enumerate(self.rnns):\n",
        "          out, hidden = rnn(out, hiddens[i])\n",
        "          out = self.hidden_dropout(out)\n",
        "\n",
        "        out = self.fc1(out.flatten(0, 1))\n",
        "        out = out.view(bptt_len, bs, vocab_sz)\n",
        "        return out"
      ],
      "execution_count": 0,
      "outputs": []
    },
    {
      "metadata": {
        "id": "1Ezeo3eKoB6F",
        "colab_type": "text"
      },
      "cell_type": "markdown",
      "source": [
        "We instantiate a model and initialize its parameters between $[-0.01, 0.01]$. We'll optimize the network via the Adam optimizer (KIngma & Ba, 2014) using a cross-entropy objective. We'll use two layers with a hidden size of $650$ units. We'll tie the encoder and projection weights. This is reminiscent of the architecture used by Press & Wolf (2016), which in turn was based on the setup of Zaremba et al. (2014).\n",
        "\n",
        "We choose to use a recurrence depth of 5 and couple $C$ and $T$ to reduce parameters. We'll apply $0.3$ recurrent dropout to $t$ and $0.65$ to the \"hidden-to-hidden\" connections between the recurrent layers."
      ]
    },
    {
      "metadata": {
        "id": "C0Ad2LRqEtAs",
        "colab_type": "code",
        "colab": {
          "base_uri": "https://localhost:8080/",
          "height": 34
        },
        "outputId": "23386d6b-bb1e-4113-df50-fa80bcfd41af"
      },
      "cell_type": "code",
      "source": [
        "model = RHNLanguageModel(vocab_sz=len(TEXT.vocab), embedding_dim=300, hidden_dim=650, \n",
        "                         recurrence_depth=5, num_layers=2, recur_dp=0.3, hidden_dp=0.65, \n",
        "                         tie_weights=True, couple=True).to(device)\n",
        "criterion = nn.CrossEntropyLoss()\n",
        "optimizer = optim.Adam(model.parameters())\n",
        "\n",
        "def count_parameters(model):\n",
        "    return sum(p.numel() for p in model.parameters() if p.requires_grad)\n",
        "\n",
        "def init_weights(m):\n",
        "    for name, param in m.named_parameters():\n",
        "        nn.init.uniform_(param.data, -0.01, 0.01)\n",
        "        \n",
        "model.apply(init_weights)            \n",
        "print(\"The model has {:,} trainable parameters\".format(count_parameters(model)))"
      ],
      "execution_count": 71,
      "outputs": [
        {
          "output_type": "stream",
          "text": [
            "The model has 7,609,802 trainable parameters\n"
          ],
          "name": "stdout"
        }
      ]
    },
    {
      "metadata": {
        "id": "9674Qb8MpCsP",
        "colab_type": "text"
      },
      "cell_type": "markdown",
      "source": [
        "We train it for 40 epochs, saving the model as validation loss decreases."
      ]
    },
    {
      "metadata": {
        "id": "uJ0FmlvVEu12",
        "colab_type": "code",
        "colab": {
          "base_uri": "https://localhost:8080/",
          "height": 2737
        },
        "outputId": "a4e78241-fb20-47b0-ad8b-0efd7f3f8f00"
      },
      "cell_type": "code",
      "source": [
        "epochs = 40\n",
        "train_losses = []\n",
        "valid_losses = []\n",
        "best = np.inf\n",
        "\n",
        "for e in range(1, epochs + 1):\n",
        "    model.train()    \n",
        "    train_loss = 0 \n",
        "    for batch in tqdm(train_loader):\n",
        "        x, y = batch.text, batch.target\n",
        "        out = model(x)\n",
        "        \n",
        "        loss = criterion(out.flatten(0, 1), y.flatten())\n",
        "\n",
        "        optimizer.zero_grad()\n",
        "        loss.backward()\n",
        "        optimizer.step()\n",
        "        \n",
        "        train_loss += loss.item()\n",
        "    train_loss /= len(train_loader)\n",
        "    train_ppl = np.exp(train_loss)\n",
        "    train_losses.append(train_loss)\n",
        "\n",
        "    model.eval()\n",
        "    valid_loss = 0\n",
        "    with torch.no_grad():\n",
        "        for batch in tqdm(valid_loader):\n",
        "            x, y = batch.text, batch.target\n",
        "            out = model(x)\n",
        "            loss = criterion(out.flatten(0, 1), y.flatten())\n",
        "\n",
        "            valid_loss += loss.item()\n",
        "    valid_loss /= len(valid_loader)\n",
        "    valid_ppl = np.exp(valid_loss)\n",
        "    valid_losses.append(valid_loss)\n",
        "    \n",
        "    if valid_loss < best:\n",
        "        best = valid_loss\n",
        "        torch.save({'state_dict': model.state_dict()}, 'rhn.pth')\n",
        "    \n",
        "    print(\"\\nEpoch {:3d} | Train Loss {:.4f} | Valid Loss {:.4f} | Train Ppl {:.4f} | Valid Ppl {:.4f}\".format(e, train_loss, valid_loss, train_ppl, valid_ppl))"
      ],
      "execution_count": 72,
      "outputs": [
        {
          "output_type": "stream",
          "text": [
            "100%|██████████| 170/170 [01:39<00:00,  1.99it/s]\n",
            "100%|██████████| 14/14 [00:02<00:00,  5.80it/s]\n",
            "  0%|          | 0/170 [00:00<?, ?it/s]"
          ],
          "name": "stderr"
        },
        {
          "output_type": "stream",
          "text": [
            "\n",
            "Epoch   1 | Train Loss 6.4903 | Valid Loss 5.8666 | Train Ppl 658.7384 | Valid Ppl 353.0360\n"
          ],
          "name": "stdout"
        },
        {
          "output_type": "stream",
          "text": [
            "100%|██████████| 170/170 [01:39<00:00,  1.91it/s]\n",
            "100%|██████████| 14/14 [00:02<00:00,  5.21it/s]\n",
            "  0%|          | 0/170 [00:00<?, ?it/s]"
          ],
          "name": "stderr"
        },
        {
          "output_type": "stream",
          "text": [
            "\n",
            "Epoch   2 | Train Loss 5.6708 | Valid Loss 5.3738 | Train Ppl 290.2679 | Valid Ppl 215.6906\n"
          ],
          "name": "stdout"
        },
        {
          "output_type": "stream",
          "text": [
            "100%|██████████| 170/170 [01:39<00:00,  2.04it/s]\n",
            "100%|██████████| 14/14 [00:02<00:00,  5.95it/s]\n",
            "  0%|          | 0/170 [00:00<?, ?it/s]"
          ],
          "name": "stderr"
        },
        {
          "output_type": "stream",
          "text": [
            "\n",
            "Epoch   3 | Train Loss 5.3197 | Valid Loss 5.1101 | Train Ppl 204.3157 | Valid Ppl 165.6794\n"
          ],
          "name": "stdout"
        },
        {
          "output_type": "stream",
          "text": [
            "100%|██████████| 170/170 [01:38<00:00,  1.88it/s]\n",
            "100%|██████████| 14/14 [00:02<00:00,  5.36it/s]\n",
            "  0%|          | 0/170 [00:00<?, ?it/s]"
          ],
          "name": "stderr"
        },
        {
          "output_type": "stream",
          "text": [
            "\n",
            "Epoch   4 | Train Loss 5.1056 | Valid Loss 4.9288 | Train Ppl 164.9512 | Valid Ppl 138.2204\n"
          ],
          "name": "stdout"
        },
        {
          "output_type": "stream",
          "text": [
            "100%|██████████| 170/170 [01:36<00:00,  2.05it/s]\n",
            "100%|██████████| 14/14 [00:02<00:00,  6.04it/s]\n",
            "  0%|          | 0/170 [00:00<?, ?it/s]"
          ],
          "name": "stderr"
        },
        {
          "output_type": "stream",
          "text": [
            "\n",
            "Epoch   5 | Train Loss 4.9780 | Valid Loss 4.8309 | Train Ppl 145.1893 | Valid Ppl 125.3243\n"
          ],
          "name": "stdout"
        },
        {
          "output_type": "stream",
          "text": [
            "100%|██████████| 170/170 [01:38<00:00,  2.07it/s]\n",
            "100%|██████████| 14/14 [00:02<00:00,  6.01it/s]\n",
            "  0%|          | 0/170 [00:00<?, ?it/s]"
          ],
          "name": "stderr"
        },
        {
          "output_type": "stream",
          "text": [
            "\n",
            "Epoch   6 | Train Loss 4.8974 | Valid Loss 4.7597 | Train Ppl 133.9452 | Valid Ppl 116.7142\n"
          ],
          "name": "stdout"
        },
        {
          "output_type": "stream",
          "text": [
            "100%|██████████| 170/170 [01:35<00:00,  2.11it/s]\n",
            "100%|██████████| 14/14 [00:02<00:00,  6.06it/s]\n",
            "  0%|          | 0/170 [00:00<?, ?it/s]"
          ],
          "name": "stderr"
        },
        {
          "output_type": "stream",
          "text": [
            "\n",
            "Epoch   7 | Train Loss 4.8360 | Valid Loss 4.7047 | Train Ppl 125.9622 | Valid Ppl 110.4628\n"
          ],
          "name": "stdout"
        },
        {
          "output_type": "stream",
          "text": [
            "100%|██████████| 170/170 [01:35<00:00,  2.09it/s]\n",
            "100%|██████████| 14/14 [00:02<00:00,  6.02it/s]\n",
            "  0%|          | 0/170 [00:00<?, ?it/s]"
          ],
          "name": "stderr"
        },
        {
          "output_type": "stream",
          "text": [
            "\n",
            "Epoch   8 | Train Loss 4.7873 | Valid Loss 4.6606 | Train Ppl 119.9719 | Valid Ppl 105.6943\n"
          ],
          "name": "stdout"
        },
        {
          "output_type": "stream",
          "text": [
            "100%|██████████| 170/170 [01:37<00:00,  2.13it/s]\n",
            "100%|██████████| 14/14 [00:02<00:00,  6.08it/s]\n",
            "  0%|          | 0/170 [00:00<?, ?it/s]"
          ],
          "name": "stderr"
        },
        {
          "output_type": "stream",
          "text": [
            "\n",
            "Epoch   9 | Train Loss 4.7429 | Valid Loss 4.6207 | Train Ppl 114.7612 | Valid Ppl 101.5620\n"
          ],
          "name": "stdout"
        },
        {
          "output_type": "stream",
          "text": [
            "100%|██████████| 170/170 [01:35<00:00,  2.05it/s]\n",
            "100%|██████████| 14/14 [00:02<00:00,  6.02it/s]\n",
            "  0%|          | 0/170 [00:00<?, ?it/s]"
          ],
          "name": "stderr"
        },
        {
          "output_type": "stream",
          "text": [
            "\n",
            "Epoch  10 | Train Loss 4.7042 | Valid Loss 4.5860 | Train Ppl 110.4110 | Valid Ppl 98.1029\n"
          ],
          "name": "stdout"
        },
        {
          "output_type": "stream",
          "text": [
            "100%|██████████| 170/170 [01:35<00:00,  2.12it/s]\n",
            "100%|██████████| 14/14 [00:02<00:00,  6.05it/s]\n",
            "  0%|          | 0/170 [00:00<?, ?it/s]"
          ],
          "name": "stderr"
        },
        {
          "output_type": "stream",
          "text": [
            "\n",
            "Epoch  11 | Train Loss 4.6730 | Valid Loss 4.5568 | Train Ppl 107.0227 | Valid Ppl 95.2814\n"
          ],
          "name": "stdout"
        },
        {
          "output_type": "stream",
          "text": [
            "100%|██████████| 170/170 [01:37<00:00,  2.11it/s]\n",
            "100%|██████████| 14/14 [00:02<00:00,  6.02it/s]\n",
            "  0%|          | 0/170 [00:00<?, ?it/s]"
          ],
          "name": "stderr"
        },
        {
          "output_type": "stream",
          "text": [
            "\n",
            "Epoch  12 | Train Loss 4.6434 | Valid Loss 4.5328 | Train Ppl 103.8986 | Valid Ppl 93.0188\n"
          ],
          "name": "stdout"
        },
        {
          "output_type": "stream",
          "text": [
            "100%|██████████| 170/170 [01:36<00:00,  1.87it/s]\n",
            "100%|██████████| 14/14 [00:02<00:00,  5.40it/s]\n",
            "  0%|          | 0/170 [00:00<?, ?it/s]"
          ],
          "name": "stderr"
        },
        {
          "output_type": "stream",
          "text": [
            "\n",
            "Epoch  13 | Train Loss 4.6182 | Valid Loss 4.5083 | Train Ppl 101.3162 | Valid Ppl 90.7631\n"
          ],
          "name": "stdout"
        },
        {
          "output_type": "stream",
          "text": [
            "100%|██████████| 170/170 [01:35<00:00,  2.10it/s]\n",
            "100%|██████████| 14/14 [00:02<00:00,  6.04it/s]\n",
            "  0%|          | 0/170 [00:00<?, ?it/s]"
          ],
          "name": "stderr"
        },
        {
          "output_type": "stream",
          "text": [
            "\n",
            "Epoch  14 | Train Loss 4.5947 | Valid Loss 4.4870 | Train Ppl 98.9600 | Valid Ppl 88.8573\n"
          ],
          "name": "stdout"
        },
        {
          "output_type": "stream",
          "text": [
            "100%|██████████| 170/170 [01:36<00:00,  2.09it/s]\n",
            "100%|██████████| 14/14 [00:02<00:00,  6.08it/s]\n",
            "  0%|          | 0/170 [00:00<?, ?it/s]"
          ],
          "name": "stderr"
        },
        {
          "output_type": "stream",
          "text": [
            "\n",
            "Epoch  15 | Train Loss 4.5710 | Valid Loss 4.4691 | Train Ppl 96.6429 | Valid Ppl 87.2802\n"
          ],
          "name": "stdout"
        },
        {
          "output_type": "stream",
          "text": [
            "100%|██████████| 170/170 [01:34<00:00,  2.13it/s]\n",
            "100%|██████████| 14/14 [00:02<00:00,  6.06it/s]\n",
            "  0%|          | 0/170 [00:00<?, ?it/s]"
          ],
          "name": "stderr"
        },
        {
          "output_type": "stream",
          "text": [
            "\n",
            "Epoch  16 | Train Loss 4.5515 | Valid Loss 4.4516 | Train Ppl 94.7758 | Valid Ppl 85.7660\n"
          ],
          "name": "stdout"
        },
        {
          "output_type": "stream",
          "text": [
            "100%|██████████| 170/170 [01:34<00:00,  2.11it/s]\n",
            "100%|██████████| 14/14 [00:02<00:00,  6.08it/s]\n",
            "  0%|          | 0/170 [00:00<?, ?it/s]"
          ],
          "name": "stderr"
        },
        {
          "output_type": "stream",
          "text": [
            "\n",
            "Epoch  17 | Train Loss 4.5324 | Valid Loss 4.4368 | Train Ppl 92.9788 | Valid Ppl 84.5015\n"
          ],
          "name": "stdout"
        },
        {
          "output_type": "stream",
          "text": [
            "100%|██████████| 170/170 [01:37<00:00,  2.11it/s]\n",
            "100%|██████████| 14/14 [00:02<00:00,  6.03it/s]\n",
            "  0%|          | 0/170 [00:00<?, ?it/s]"
          ],
          "name": "stderr"
        },
        {
          "output_type": "stream",
          "text": [
            "\n",
            "Epoch  18 | Train Loss 4.5149 | Valid Loss 4.4202 | Train Ppl 91.3645 | Valid Ppl 83.1124\n"
          ],
          "name": "stdout"
        },
        {
          "output_type": "stream",
          "text": [
            "100%|██████████| 170/170 [01:34<00:00,  2.13it/s]\n",
            "100%|██████████| 14/14 [00:02<00:00,  6.02it/s]\n",
            "  0%|          | 0/170 [00:00<?, ?it/s]"
          ],
          "name": "stderr"
        },
        {
          "output_type": "stream",
          "text": [
            "\n",
            "Epoch  19 | Train Loss 4.4975 | Valid Loss 4.4108 | Train Ppl 89.7901 | Valid Ppl 82.3364\n"
          ],
          "name": "stdout"
        },
        {
          "output_type": "stream",
          "text": [
            "100%|██████████| 170/170 [01:34<00:00,  2.08it/s]\n",
            "100%|██████████| 14/14 [00:02<00:00,  6.09it/s]\n",
            "  0%|          | 0/170 [00:00<?, ?it/s]"
          ],
          "name": "stderr"
        },
        {
          "output_type": "stream",
          "text": [
            "\n",
            "Epoch  20 | Train Loss 4.4833 | Valid Loss 4.3991 | Train Ppl 88.5307 | Valid Ppl 81.3787\n"
          ],
          "name": "stdout"
        },
        {
          "output_type": "stream",
          "text": [
            "100%|██████████| 170/170 [01:36<00:00,  1.83it/s]\n",
            "100%|██████████| 14/14 [00:02<00:00,  5.57it/s]\n",
            "  0%|          | 0/170 [00:00<?, ?it/s]"
          ],
          "name": "stderr"
        },
        {
          "output_type": "stream",
          "text": [
            "\n",
            "Epoch  21 | Train Loss 4.4669 | Valid Loss 4.3860 | Train Ppl 87.0836 | Valid Ppl 80.3168\n"
          ],
          "name": "stdout"
        },
        {
          "output_type": "stream",
          "text": [
            "100%|██████████| 170/170 [01:34<00:00,  1.93it/s]\n",
            "100%|██████████| 14/14 [00:02<00:00,  5.40it/s]\n",
            "  0%|          | 0/170 [00:00<?, ?it/s]"
          ],
          "name": "stderr"
        },
        {
          "output_type": "stream",
          "text": [
            "\n",
            "Epoch  22 | Train Loss 4.4540 | Valid Loss 4.3724 | Train Ppl 85.9672 | Valid Ppl 79.2351\n"
          ],
          "name": "stdout"
        },
        {
          "output_type": "stream",
          "text": [
            "100%|██████████| 170/170 [01:34<00:00,  2.10it/s]\n",
            "100%|██████████| 14/14 [00:02<00:00,  6.06it/s]\n",
            "  0%|          | 0/170 [00:00<?, ?it/s]"
          ],
          "name": "stderr"
        },
        {
          "output_type": "stream",
          "text": [
            "\n",
            "Epoch  23 | Train Loss 4.4413 | Valid Loss 4.3628 | Train Ppl 84.8860 | Valid Ppl 78.4778\n"
          ],
          "name": "stdout"
        },
        {
          "output_type": "stream",
          "text": [
            "100%|██████████| 170/170 [01:34<00:00,  2.13it/s]\n",
            "100%|██████████| 14/14 [00:02<00:00,  6.05it/s]\n",
            "  0%|          | 0/170 [00:00<?, ?it/s]"
          ],
          "name": "stderr"
        },
        {
          "output_type": "stream",
          "text": [
            "\n",
            "Epoch  24 | Train Loss 4.4279 | Valid Loss 4.3557 | Train Ppl 83.7560 | Valid Ppl 77.9221\n"
          ],
          "name": "stdout"
        },
        {
          "output_type": "stream",
          "text": [
            "100%|██████████| 170/170 [01:36<00:00,  2.10it/s]\n",
            "100%|██████████| 14/14 [00:02<00:00,  6.10it/s]\n",
            "  0%|          | 0/170 [00:00<?, ?it/s]"
          ],
          "name": "stderr"
        },
        {
          "output_type": "stream",
          "text": [
            "\n",
            "Epoch  25 | Train Loss 4.4169 | Valid Loss 4.3449 | Train Ppl 82.8365 | Valid Ppl 77.0872\n"
          ],
          "name": "stdout"
        },
        {
          "output_type": "stream",
          "text": [
            "100%|██████████| 170/170 [01:34<00:00,  2.11it/s]\n",
            "100%|██████████| 14/14 [00:02<00:00,  6.06it/s]\n",
            "  0%|          | 0/170 [00:00<?, ?it/s]"
          ],
          "name": "stderr"
        },
        {
          "output_type": "stream",
          "text": [
            "\n",
            "Epoch  26 | Train Loss 4.4041 | Valid Loss 4.3357 | Train Ppl 81.7886 | Valid Ppl 76.3799\n"
          ],
          "name": "stdout"
        },
        {
          "output_type": "stream",
          "text": [
            "100%|██████████| 170/170 [01:35<00:00,  1.88it/s]\n",
            "100%|██████████| 14/14 [00:02<00:00,  5.39it/s]\n",
            "  0%|          | 0/170 [00:00<?, ?it/s]"
          ],
          "name": "stderr"
        },
        {
          "output_type": "stream",
          "text": [
            "\n",
            "Epoch  27 | Train Loss 4.3942 | Valid Loss 4.3274 | Train Ppl 80.9818 | Valid Ppl 75.7475\n"
          ],
          "name": "stdout"
        },
        {
          "output_type": "stream",
          "text": [
            "100%|██████████| 170/170 [01:35<00:00,  2.13it/s]\n",
            "100%|██████████| 14/14 [00:02<00:00,  6.05it/s]\n",
            "  0%|          | 0/170 [00:00<?, ?it/s]"
          ],
          "name": "stderr"
        },
        {
          "output_type": "stream",
          "text": [
            "\n",
            "Epoch  28 | Train Loss 4.3826 | Valid Loss 4.3165 | Train Ppl 80.0483 | Valid Ppl 74.9246\n"
          ],
          "name": "stdout"
        },
        {
          "output_type": "stream",
          "text": [
            "100%|██████████| 170/170 [01:34<00:00,  2.11it/s]\n",
            "100%|██████████| 14/14 [00:02<00:00,  6.09it/s]\n",
            "  0%|          | 0/170 [00:00<?, ?it/s]"
          ],
          "name": "stderr"
        },
        {
          "output_type": "stream",
          "text": [
            "\n",
            "Epoch  29 | Train Loss 4.3723 | Valid Loss 4.3095 | Train Ppl 79.2228 | Valid Ppl 74.4023\n"
          ],
          "name": "stdout"
        },
        {
          "output_type": "stream",
          "text": [
            "100%|██████████| 170/170 [01:34<00:00,  2.13it/s]\n",
            "100%|██████████| 14/14 [00:02<00:00,  6.09it/s]\n",
            "  0%|          | 0/170 [00:00<?, ?it/s]"
          ],
          "name": "stderr"
        },
        {
          "output_type": "stream",
          "text": [
            "\n",
            "Epoch  30 | Train Loss 4.3615 | Valid Loss 4.3039 | Train Ppl 78.3774 | Valid Ppl 73.9873\n"
          ],
          "name": "stdout"
        },
        {
          "output_type": "stream",
          "text": [
            "100%|██████████| 170/170 [01:36<00:00,  2.12it/s]\n",
            "100%|██████████| 14/14 [00:02<00:00,  6.10it/s]\n",
            "  0%|          | 0/170 [00:00<?, ?it/s]"
          ],
          "name": "stderr"
        },
        {
          "output_type": "stream",
          "text": [
            "\n",
            "Epoch  31 | Train Loss 4.3544 | Valid Loss 4.2953 | Train Ppl 77.8233 | Valid Ppl 73.3549\n"
          ],
          "name": "stdout"
        },
        {
          "output_type": "stream",
          "text": [
            "100%|██████████| 170/170 [01:35<00:00,  2.09it/s]\n",
            "100%|██████████| 14/14 [00:02<00:00,  6.06it/s]\n",
            "  0%|          | 0/170 [00:00<?, ?it/s]"
          ],
          "name": "stderr"
        },
        {
          "output_type": "stream",
          "text": [
            "\n",
            "Epoch  32 | Train Loss 4.3442 | Valid Loss 4.2917 | Train Ppl 77.0325 | Valid Ppl 73.0931\n"
          ],
          "name": "stdout"
        },
        {
          "output_type": "stream",
          "text": [
            "100%|██████████| 170/170 [01:34<00:00,  2.11it/s]\n",
            "100%|██████████| 14/14 [00:02<00:00,  6.05it/s]\n",
            "  0%|          | 0/170 [00:00<?, ?it/s]"
          ],
          "name": "stderr"
        },
        {
          "output_type": "stream",
          "text": [
            "\n",
            "Epoch  33 | Train Loss 4.3358 | Valid Loss 4.2808 | Train Ppl 76.3894 | Valid Ppl 72.2964\n"
          ],
          "name": "stdout"
        },
        {
          "output_type": "stream",
          "text": [
            "100%|██████████| 170/170 [01:36<00:00,  2.09it/s]\n",
            "100%|██████████| 14/14 [00:02<00:00,  5.99it/s]\n",
            "  0%|          | 0/170 [00:00<?, ?it/s]"
          ],
          "name": "stderr"
        },
        {
          "output_type": "stream",
          "text": [
            "\n",
            "Epoch  34 | Train Loss 4.3261 | Valid Loss 4.2754 | Train Ppl 75.6486 | Valid Ppl 71.9065\n"
          ],
          "name": "stdout"
        },
        {
          "output_type": "stream",
          "text": [
            "100%|██████████| 170/170 [01:35<00:00,  2.05it/s]\n",
            "100%|██████████| 14/14 [00:02<00:00,  6.05it/s]\n",
            "  0%|          | 0/170 [00:00<?, ?it/s]"
          ],
          "name": "stderr"
        },
        {
          "output_type": "stream",
          "text": [
            "\n",
            "Epoch  35 | Train Loss 4.3168 | Valid Loss 4.2703 | Train Ppl 74.9488 | Valid Ppl 71.5404\n"
          ],
          "name": "stdout"
        },
        {
          "output_type": "stream",
          "text": [
            "100%|██████████| 170/170 [01:35<00:00,  1.95it/s]\n",
            "100%|██████████| 14/14 [00:02<00:00,  5.36it/s]\n",
            "  0%|          | 0/170 [00:00<?, ?it/s]"
          ],
          "name": "stderr"
        },
        {
          "output_type": "stream",
          "text": [
            "\n",
            "Epoch  36 | Train Loss 4.3102 | Valid Loss 4.2648 | Train Ppl 74.4575 | Valid Ppl 71.1502\n"
          ],
          "name": "stdout"
        },
        {
          "output_type": "stream",
          "text": [
            "100%|██████████| 170/170 [01:36<00:00,  2.10it/s]\n",
            "100%|██████████| 14/14 [00:02<00:00,  6.11it/s]\n",
            "  0%|          | 0/170 [00:00<?, ?it/s]"
          ],
          "name": "stderr"
        },
        {
          "output_type": "stream",
          "text": [
            "\n",
            "Epoch  37 | Train Loss 4.3024 | Valid Loss 4.2583 | Train Ppl 73.8737 | Valid Ppl 70.6903\n"
          ],
          "name": "stdout"
        },
        {
          "output_type": "stream",
          "text": [
            "100%|██████████| 170/170 [01:34<00:00,  2.13it/s]\n",
            "100%|██████████| 14/14 [00:02<00:00,  6.08it/s]\n",
            "  0%|          | 0/170 [00:00<?, ?it/s]"
          ],
          "name": "stderr"
        },
        {
          "output_type": "stream",
          "text": [
            "\n",
            "Epoch  38 | Train Loss 4.2943 | Valid Loss 4.2517 | Train Ppl 73.2774 | Valid Ppl 70.2243\n"
          ],
          "name": "stdout"
        },
        {
          "output_type": "stream",
          "text": [
            "100%|██████████| 170/170 [01:34<00:00,  2.12it/s]\n",
            "100%|██████████| 14/14 [00:02<00:00,  6.08it/s]\n",
            "  0%|          | 0/170 [00:00<?, ?it/s]"
          ],
          "name": "stderr"
        },
        {
          "output_type": "stream",
          "text": [
            "\n",
            "Epoch  39 | Train Loss 4.2854 | Valid Loss 4.2453 | Train Ppl 72.6297 | Valid Ppl 69.7795\n"
          ],
          "name": "stdout"
        },
        {
          "output_type": "stream",
          "text": [
            "100%|██████████| 170/170 [01:36<00:00,  1.83it/s]\n",
            "100%|██████████| 14/14 [00:02<00:00,  5.31it/s]"
          ],
          "name": "stderr"
        },
        {
          "output_type": "stream",
          "text": [
            "\n",
            "Epoch  40 | Train Loss 4.2782 | Valid Loss 4.2413 | Train Ppl 72.1117 | Valid Ppl 69.4991\n"
          ],
          "name": "stdout"
        },
        {
          "output_type": "stream",
          "text": [
            "\n"
          ],
          "name": "stderr"
        }
      ]
    },
    {
      "metadata": {
        "id": "eLcl8ZpI4_Qu",
        "colab_type": "text"
      },
      "cell_type": "markdown",
      "source": [
        "Let's see the loss curves."
      ]
    },
    {
      "metadata": {
        "id": "Dsdq3sbEFryG",
        "colab_type": "code",
        "colab": {
          "base_uri": "https://localhost:8080/",
          "height": 286
        },
        "outputId": "ecf87d98-a22d-4551-b16a-55445d8d7731"
      },
      "cell_type": "code",
      "source": [
        "pd.DataFrame(data={'train':train_losses, 'valid':valid_losses}).plot.line()"
      ],
      "execution_count": 74,
      "outputs": [
        {
          "output_type": "execute_result",
          "data": {
            "text/plain": [
              "<matplotlib.axes._subplots.AxesSubplot at 0x7f1a99280d30>"
            ]
          },
          "metadata": {
            "tags": []
          },
          "execution_count": 74
        },
        {
          "output_type": "display_data",
          "data": {
            "image/png": "[encoded data removed]",
            "text/plain": [
              "<Figure size 432x288 with 1 Axes>"
            ]
          },
          "metadata": {
            "tags": []
          }
        }
      ]
    },
    {
      "metadata": {
        "id": "LCOOZtuu5BMt",
        "colab_type": "text"
      },
      "cell_type": "markdown",
      "source": [
        "We'll load the best model and evaluate on the test set."
      ]
    },
    {
      "metadata": {
        "id": "rtcZQ5X7peQI",
        "colab_type": "code",
        "colab": {
          "base_uri": "https://localhost:8080/",
          "height": 68
        },
        "outputId": "2e23f640-7a04-4841-a791-ab14e2852c7c"
      },
      "cell_type": "code",
      "source": [
        "checkpoint = torch.load('rhn.pth')\n",
        "model.load_state_dict(checkpoint['state_dict'])\n",
        "\n",
        "model.eval()\n",
        "test_loss = 0\n",
        "with torch.no_grad():\n",
        "    for batch in tqdm(test_loader):\n",
        "        x, y = batch.text, batch.target\n",
        "        out = model(x)\n",
        "        loss = criterion(out.flatten(0, 1), y.flatten())\n",
        "\n",
        "        test_loss += loss.item()\n",
        "test_loss /= len(test_loader)\n",
        "test_ppl = np.exp(test_loss)\n",
        "\n",
        "print(\"\\nTest Loss {:.4f} | Test Ppl {:.4f}\".format(test_loss, test_ppl))"
      ],
      "execution_count": 78,
      "outputs": [
        {
          "output_type": "stream",
          "text": [
            "100%|██████████| 16/16 [00:02<00:00,  5.77it/s]"
          ],
          "name": "stderr"
        },
        {
          "output_type": "stream",
          "text": [
            "\n",
            "Test Loss 4.0991 | Test Ppl 60.2868\n"
          ],
          "name": "stdout"
        },
        {
          "output_type": "stream",
          "text": [
            "\n"
          ],
          "name": "stderr"
        }
      ]
    },
    {
      "metadata": {
        "id": "ST--btlN5hUD",
        "colab_type": "text"
      },
      "cell_type": "markdown",
      "source": [
        "We got a test perplexity of ~60 with a two-layer recurrent highway network with a depth of 5. The best score on the paper was ~66 with a recurrence depth of 9. Do note that in the original paper, the authors only tested single layer networks in order to study the effect of the recurrence depth, and mentioned that stacking more layers will give better test scores.\n",
        "\n",
        "This is our best score so far!\n",
        "\n",
        "Let's implement beam search and try to generate text."
      ]
    },
    {
      "metadata": {
        "id": "OzdxV8MjFi19",
        "colab_type": "code",
        "colab": {}
      },
      "cell_type": "code",
      "source": [
        "# This implementation deffo could use some work. I just wrote this\n",
        "# from the top of my head after a couple drinks HAHA. If you see any\n",
        "# errors, don't be afraid to reach out!\n",
        "def get_candidates(text, score, k=5):\n",
        "  s = torch.LongTensor([TEXT.vocab.stoi[w] for w in tokenize(text)]).unsqueeze(0)\n",
        "  out = model(s)\n",
        "  probs = torch.softmax(out.squeeze(0)[-1], dim=0)\n",
        "  scores, indices = torch.topk(probs, k)\n",
        "  words = [TEXT.vocab.itos[i] for i in indices]\n",
        "  checks = set(['<', '>', 'unk', '<eos>', '<sos>'])\n",
        "  candidates = [text + \" \" + c for c in words if c not in checks]\n",
        "  scores = scores * score\n",
        "  return scores, candidates\n",
        "\n",
        "def beam_search(text, n_words, k):\n",
        "  scores, cands = get_candidates(text, 1)\n",
        "  for i in tqdm(range(n_words)):\n",
        "    ncands = []\n",
        "    nscores = []\n",
        "    for s, c in zip(scores, cands):\n",
        "      ns, nc = get_candidates(c, s, k=k)\n",
        "      ncands.extend(nc)\n",
        "      nscores.extend(ns)\n",
        "    scores = []\n",
        "    cands = []\n",
        "    for c, s in sorted(list(zip(ncands, nscores)), key=lambda x: x[1], reverse=True)[:k]:\n",
        "      scores.append(s)\n",
        "      cands.append(c)\n",
        "  return cands[0]"
      ],
      "execution_count": 0,
      "outputs": []
    },
    {
      "metadata": {
        "id": "B1fe2_a9LneZ",
        "colab_type": "text"
      },
      "cell_type": "markdown",
      "source": [
        "Let's test it."
      ]
    },
    {
      "metadata": {
        "id": "lrRvf1rcISj0",
        "colab_type": "code",
        "colab": {
          "base_uri": "https://localhost:8080/",
          "height": 68
        },
        "outputId": "3f66bd21-94b2-431e-85b7-02378e653033"
      },
      "cell_type": "code",
      "source": [
        "n_words = 15\n",
        "k = 10\n",
        "text = \"the meaning of life is\"\n",
        "\n",
        "out = beam_search(text, n_words, k)\n",
        "print('\\n' + out)"
      ],
      "execution_count": 367,
      "outputs": [
        {
          "output_type": "stream",
          "text": [
            "100%|██████████| 15/15 [00:01<00:00, 10.12it/s]"
          ],
          "name": "stderr"
        },
        {
          "output_type": "stream",
          "text": [
            "\n",
            "the meaning of life is expected the company said mr   but it has grown from new england said mr and\n"
          ],
          "name": "stdout"
        },
        {
          "output_type": "stream",
          "text": [
            "\n"
          ],
          "name": "stderr"
        }
      ]
    },
    {
      "metadata": {
        "id": "WqCGNqq3H-sK",
        "colab_type": "code",
        "colab": {}
      },
      "cell_type": "code",
      "source": [
        ""
      ],
      "execution_count": 0,
      "outputs": []
    }
  ]
}