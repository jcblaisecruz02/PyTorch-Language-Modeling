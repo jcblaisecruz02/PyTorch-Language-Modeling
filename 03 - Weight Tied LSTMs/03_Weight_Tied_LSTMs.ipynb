{
  "nbformat": 4,
  "nbformat_minor": 0,
  "metadata": {
    "colab": {
      "name": "03 - Weight-Tied LSTMs",
      "version": "0.3.2",
      "provenance": [],
      "collapsed_sections": []
    },
    "kernelspec": {
      "name": "python3",
      "display_name": "Python 3"
    },
    "accelerator": "GPU"
  },
  "cells": [
    {
      "metadata": {
        "id": "j3OEUm5mIV8A",
        "colab_type": "text"
      },
      "cell_type": "markdown",
      "source": [
        "# 03 - Weight-Tied LSTMs\n",
        "By Jan Christian Blaise B. Cruz"
      ]
    },
    {
      "metadata": {
        "id": "SuzgtaxXIHxj",
        "colab_type": "text"
      },
      "cell_type": "markdown",
      "source": [
        "This notebook is the conclusion of what we know as \"standard neural language model practices.\" We started with a normal LSTM-based model, then applied recurrent regularization. In this notebook, we'll explore another de facto common practice, called weight tying.\n",
        "\n",
        "Let's start with the imports."
      ]
    },
    {
      "metadata": {
        "id": "-teUiIZoJyS8",
        "colab_type": "code",
        "colab": {}
      },
      "cell_type": "code",
      "source": [
        "import torch\n",
        "import torch.nn as nn\n",
        "import torch.optim as optim\n",
        "from torch.autograd import Variable\n",
        "\n",
        "from torchtext.data import Field, BPTTIterator\n",
        "from torchtext.datasets import PennTreebank, WikiText2\n",
        "import spacy\n",
        "\n",
        "import numpy as np\n",
        "import pandas as pd\n",
        "from tqdm import tqdm\n",
        "\n",
        "device = torch.device('cuda' if torch.cuda.is_available() else 'cpu')\n",
        "torch.manual_seed(42)\n",
        "torch.backends.cudnn.deterministic = True"
      ],
      "execution_count": 0,
      "outputs": []
    },
    {
      "metadata": {
        "id": "AmBJGBesIKIo",
        "colab_type": "text"
      },
      "cell_type": "markdown",
      "source": [
        "We'll use the Torchtext library to load and prepare our dataset. Again, we'll use the WikiText-2 dataset splitting them into train, valid, and test sets, tokenizing them with SpaCy's english tokenizer, and building the vocabulary with words of frequency of at least 2."
      ]
    },
    {
      "metadata": {
        "id": "ChFidnybJ2C0",
        "colab_type": "code",
        "outputId": "bbd4e8b4-6868-44db-f088-18fea97119ab",
        "colab": {
          "base_uri": "https://localhost:8080/",
          "height": 34
        }
      },
      "cell_type": "code",
      "source": [
        "# Tokenizer\n",
        "spacy_en = spacy.load('en')\n",
        "def tokenize(s):\n",
        "    return [tok.text for tok in spacy_en.tokenizer(s)]\n",
        "\n",
        "# Prepare a field and get the data\n",
        "TEXT = Field(lower=True, tokenize=tokenize)\n",
        "train_data, valid_data, test_data = WikiText2.splits(TEXT)\n",
        "\n",
        "# Build the vocabulary\n",
        "TEXT.build_vocab(train_data, min_freq=2)\n",
        "print(\"Vocab size: {}\".format(len(TEXT.vocab)))"
      ],
      "execution_count": 0,
      "outputs": [
        {
          "output_type": "stream",
          "text": [
            "Vocab size: 28870\n"
          ],
          "name": "stdout"
        }
      ]
    },
    {
      "metadata": {
        "id": "HFW-6F5JIQjE",
        "colab_type": "text"
      },
      "cell_type": "markdown",
      "source": [
        "We'll batch them, again using the ```BPTTIterator``` following common conventions on batch size and sequence length."
      ]
    },
    {
      "metadata": {
        "id": "BnzzorErJ3GP",
        "colab_type": "code",
        "colab": {}
      },
      "cell_type": "code",
      "source": [
        "batch_size = 80\n",
        "bptt_len = 80\n",
        "\n",
        "train_loader, valid_loader, test_loader = BPTTIterator.splits(\n",
        "    (train_data, valid_data, test_data), \n",
        "    batch_size=batch_size, bptt_len=bptt_len, \n",
        "    device=device, \n",
        "    repeat=False\n",
        ")"
      ],
      "execution_count": 0,
      "outputs": []
    },
    {
      "metadata": {
        "id": "8toj5L5yIS9r",
        "colab_type": "text"
      },
      "cell_type": "markdown",
      "source": [
        "For convenience, we'll define recurrent dropout like we did in the previous notebook."
      ]
    },
    {
      "metadata": {
        "id": "QATXmv-zJ4a6",
        "colab_type": "code",
        "colab": {}
      },
      "cell_type": "code",
      "source": [
        "# Credits to the contributors at fast.ai\n",
        "def dropout_mask(x, sz, p):\n",
        "    return x.new(*sz).bernoulli_(1-p).div_(1-p)\n",
        "  \n",
        "class RNNDropout(nn.Module):\n",
        "    def __init__(self, p=0.5):\n",
        "        super().__init__()\n",
        "        self.p=p\n",
        "\n",
        "    def forward(self, x):\n",
        "        if not self.training or self.p == 0.: \n",
        "          return x\n",
        "        m = dropout_mask(x.data, (x.size(0), 1, x.size(2)), self.p)\n",
        "        return x * m"
      ],
      "execution_count": 0,
      "outputs": []
    },
    {
      "metadata": {
        "id": "jmjIKJhqIpQx",
        "colab_type": "text"
      },
      "cell_type": "markdown",
      "source": [
        "# Weight-Tied LSTM Language Model\n",
        "A key difference in this iteration is that we'll be using what is called \"weight tying,\" where two layers would share the exact same weights. There are two advantages to this approach: first is that tying weights will obviously reduce the total number of parameters to optimize, thus slimming down the model and reducing complexity. Second, this approach has been shown to reduce perplexity with empirical results (Press & Wolf, 2016) and with theoretical motivations (Inan et al., 2016).\n",
        "\n",
        "We'll modify our previous model to account for weight tying, as shown below."
      ]
    },
    {
      "metadata": {
        "id": "VS7JaSV6J5oL",
        "colab_type": "code",
        "colab": {}
      },
      "cell_type": "code",
      "source": [
        "class WTLSTMLanguageModel(nn.Module):\n",
        "    def __init__(self, vocab_sz, embedding_dim, hidden_dim, num_layers=1, hidden_dp=0.5, tie_weights=True):\n",
        "        super(WTLSTMLanguageModel, self).__init__()\n",
        "        self.embedding = nn.Embedding(vocab_sz, embedding_dim)\n",
        "        \n",
        "        # Modify the output dimension of the last layer to output embedding_dim\n",
        "        self.rnns = [nn.LSTM(embedding_dim if l == 0 else hidden_dim, \n",
        "                             (hidden_dim if l != num_layers - 1 else embedding_dim) if tie_weights else hidden_dim) for l in range(num_layers)]\n",
        "        self.rnns = nn.ModuleList(self.rnns)\n",
        "        \n",
        "        # Modify the fully-connected layer to take in embedding_dim sized tensors\n",
        "        self.fc1 = nn.Linear(embedding_dim if tie_weights else hidden_dim, vocab_sz)\n",
        "        self.hidden_dropout = RNNDropout(hidden_dp)\n",
        "        self.hidden_size = hidden_dim\n",
        "        self.num_layers = num_layers\n",
        "        \n",
        "        # Tie the weights.\n",
        "        if tie_weights:\n",
        "            self.fc1.weight = self.embedding.weight\n",
        "        \n",
        "    def init_hidden(self, bs):\n",
        "        # No need to modify this as self.rnns[i].hidden_size will take care of\n",
        "        # getting the right sizes for us\n",
        "        weight = next(self.parameters()).data\n",
        "        return [(weight.new(1, bs, self.rnns[i].hidden_size).zero_(), \n",
        "                 weight.new(1, bs, self.rnns[i].hidden_size).zero_()) for i in range(len(self.rnns))]\n",
        "    \n",
        "    def forward(self, x):\n",
        "        bptt_len, bs = x.shape\n",
        "        vocab_sz = self.embedding.num_embeddings\n",
        "        \n",
        "        out = self.embedding(x)\n",
        "        hiddens = self.init_hidden(bs)\n",
        "        for i, rnn in enumerate(self.rnns):   \n",
        "            out, (hidden, cell) = rnn(out, hiddens[i])\n",
        "            out = self.hidden_dropout(out)\n",
        "        \n",
        "        out = out.flatten(0, 1)\n",
        "        out = self.fc1(out)\n",
        "        out = out.view(bptt_len, bs, vocab_sz)\n",
        "        return out"
      ],
      "execution_count": 0,
      "outputs": []
    },
    {
      "metadata": {
        "id": "iMh8VL1DJt01",
        "colab_type": "text"
      },
      "cell_type": "markdown",
      "source": [
        "We'll use the \"medium sized model\" as noted in Press & Wolf (2016), which borrows the setup from Zaremba et al., (2014). We use a two-layer LSTM language model with 300-dimension embeddings and 650 units in the hidden layers. We use a recurrent dropout of 0.65 on the hidden-to-hidden connections of the LSTMs. We optimize using Adam (Kingma & Ba, 2014) using a cross-entropy objective. We use a base learning rate of $1e-2$ without annealing. All parameters are initialized to a uniform distribution between $[-0.01, 0.01]$.\n",
        "\n",
        "Note the overall reduction in parameters compared to our last model."
      ]
    },
    {
      "metadata": {
        "id": "r5UVaKrxKYZ8",
        "colab_type": "code",
        "outputId": "9ada53e2-f073-40c8-d3ac-24bd57e2ee3e",
        "colab": {
          "base_uri": "https://localhost:8080/",
          "height": 34
        }
      },
      "cell_type": "code",
      "source": [
        "model = WTLSTMLanguageModel(vocab_sz=len(TEXT.vocab), embedding_dim=300, hidden_dim=650, \n",
        "                            num_layers=2, hidden_dp=0.65, tie_weights=True).to(device)\n",
        "criterion = nn.CrossEntropyLoss()\n",
        "optimizer = optim.Adam(model.parameters(), lr=1e-2)\n",
        "\n",
        "def count_parameters(model):\n",
        "    return sum(p.numel() for p in model.parameters() if p.requires_grad)\n",
        "  \n",
        "def init_weights(m):\n",
        "    for name, param in m.named_parameters():\n",
        "        nn.init.uniform_(param.data, -0.01, 0.01)\n",
        "            \n",
        "model.apply(init_weights);\n",
        "print(f'The model has {count_parameters(model):,} trainable parameters')"
      ],
      "execution_count": 0,
      "outputs": [
        {
          "output_type": "stream",
          "text": [
            "The model has 12,307,470 trainable parameters\n"
          ],
          "name": "stdout"
        }
      ]
    },
    {
      "metadata": {
        "id": "K4CZIRojKinK",
        "colab_type": "text"
      },
      "cell_type": "markdown",
      "source": [
        "We'll train the model for 100 epochs and use gradient clipping to prevent exploding gradients. We save the best model trained every iteration as needed.\n",
        "\n",
        "Do note that running this cell will last a little under 4 hours in a fairly recent GPU. Instead of training, you may download my pretrained weights (trained using the same cell below) in the same dirrectory as this notebook in the repo."
      ]
    },
    {
      "metadata": {
        "id": "1dsMXulbK5Is",
        "colab_type": "code",
        "outputId": "0dd4e7c1-5eaa-4d7e-d66d-019ea64f79ce",
        "colab": {
          "base_uri": "https://localhost:8080/",
          "height": 7531
        }
      },
      "cell_type": "code",
      "source": [
        "epochs = 100\n",
        "clip = 0.25\n",
        "train_losses = []\n",
        "valid_losses = []\n",
        "best = np.inf\n",
        "\n",
        "for e in range(1, epochs + 1):\n",
        "    model.train()    \n",
        "    train_loss = 0 \n",
        "    for batch in tqdm(train_loader):\n",
        "        x, y = batch.text, batch.target\n",
        "        out = model(x)\n",
        "        \n",
        "        loss = criterion(out.flatten(0, 1), y.flatten())\n",
        "\n",
        "        optimizer.zero_grad()\n",
        "        loss.backward()\n",
        "        nn.utils.clip_grad_norm_(model.parameters(), clip)\n",
        "        optimizer.step()\n",
        "        \n",
        "        train_loss += loss.item()\n",
        "    train_loss /= len(train_loader)\n",
        "    train_ppl = np.exp(train_loss)\n",
        "    train_losses.append(train_loss)\n",
        "\n",
        "    model.eval()\n",
        "    valid_loss = 0\n",
        "    with torch.no_grad():\n",
        "        for batch in tqdm(valid_loader):\n",
        "            x, y = batch.text, batch.target\n",
        "            out = model(x)\n",
        "            loss = criterion(out.flatten(0, 1), y.flatten())\n",
        "\n",
        "            valid_loss += loss.item()\n",
        "    valid_loss /= len(valid_loader)\n",
        "    valid_ppl = np.exp(valid_loss)\n",
        "    valid_losses.append(valid_loss)\n",
        "    \n",
        "    if valid_loss < best:\n",
        "        print(\"Best model so far. Saving model...\")\n",
        "        best = valid_loss\n",
        "        torch.save({'state_dict': model.state_dict()}, 'wtlstm-wt2.pth')\n",
        "    \n",
        "    print(\"\\nEpoch {:3d} | Train Loss {:.4f} | Valid Loss {:.4f} | Train Ppl {:.4f} | Valid Ppl {:.4f}\".format(e, train_loss, valid_loss, train_ppl, valid_ppl))"
      ],
      "execution_count": 7,
      "outputs": [
        {
          "output_type": "stream",
          "text": [
            "100%|██████████| 350/350 [02:14<00:00,  2.84it/s]\n",
            "100%|██████████| 39/39 [00:04<00:00,  8.09it/s]\n",
            "  0%|          | 0/350 [00:00<?, ?it/s]"
          ],
          "name": "stderr"
        },
        {
          "output_type": "stream",
          "text": [
            "Best model so far. Saving model...\n",
            "\n",
            "Epoch   1 | Train Loss 6.9242 | Valid Loss 5.3601 | Train Ppl 1016.6230 | Valid Ppl 212.7545\n"
          ],
          "name": "stdout"
        },
        {
          "output_type": "stream",
          "text": [
            "100%|██████████| 350/350 [02:16<00:00,  3.10it/s]\n",
            "100%|██████████| 39/39 [00:04<00:00,  8.05it/s]\n",
            "  0%|          | 0/350 [00:00<?, ?it/s]"
          ],
          "name": "stderr"
        },
        {
          "output_type": "stream",
          "text": [
            "Best model so far. Saving model...\n",
            "\n",
            "Epoch   2 | Train Loss 5.7289 | Valid Loss 5.0032 | Train Ppl 307.6365 | Valid Ppl 148.8890\n"
          ],
          "name": "stdout"
        },
        {
          "output_type": "stream",
          "text": [
            "100%|██████████| 350/350 [02:15<00:00,  3.06it/s]\n",
            "100%|██████████| 39/39 [00:05<00:00,  7.65it/s]\n",
            "  0%|          | 0/350 [00:00<?, ?it/s]"
          ],
          "name": "stderr"
        },
        {
          "output_type": "stream",
          "text": [
            "Best model so far. Saving model...\n",
            "\n",
            "Epoch   3 | Train Loss 5.4669 | Valid Loss 4.8460 | Train Ppl 236.7227 | Valid Ppl 127.2266\n"
          ],
          "name": "stdout"
        },
        {
          "output_type": "stream",
          "text": [
            "100%|██████████| 350/350 [02:16<00:00,  2.77it/s]\n",
            "100%|██████████| 39/39 [00:05<00:00,  7.65it/s]\n",
            "  0%|          | 0/350 [00:00<?, ?it/s]"
          ],
          "name": "stderr"
        },
        {
          "output_type": "stream",
          "text": [
            "Best model so far. Saving model...\n",
            "\n",
            "Epoch   4 | Train Loss 5.3093 | Valid Loss 4.7436 | Train Ppl 202.2126 | Valid Ppl 114.8459\n"
          ],
          "name": "stdout"
        },
        {
          "output_type": "stream",
          "text": [
            "100%|██████████| 350/350 [02:16<00:00,  2.92it/s]\n",
            "100%|██████████| 39/39 [00:05<00:00,  7.53it/s]\n",
            "  0%|          | 0/350 [00:00<?, ?it/s]"
          ],
          "name": "stderr"
        },
        {
          "output_type": "stream",
          "text": [
            "Best model so far. Saving model...\n",
            "\n",
            "Epoch   5 | Train Loss 5.1996 | Valid Loss 4.6775 | Train Ppl 181.2022 | Valid Ppl 107.4975\n"
          ],
          "name": "stdout"
        },
        {
          "output_type": "stream",
          "text": [
            "100%|██████████| 350/350 [02:16<00:00,  3.25it/s]\n",
            "100%|██████████| 39/39 [00:04<00:00,  7.86it/s]\n",
            "  0%|          | 0/350 [00:00<?, ?it/s]"
          ],
          "name": "stderr"
        },
        {
          "output_type": "stream",
          "text": [
            "Best model so far. Saving model...\n",
            "\n",
            "Epoch   6 | Train Loss 5.1233 | Valid Loss 4.6303 | Train Ppl 167.8802 | Valid Ppl 102.5413\n"
          ],
          "name": "stdout"
        },
        {
          "output_type": "stream",
          "text": [
            "100%|██████████| 350/350 [02:17<00:00,  3.23it/s]\n",
            "100%|██████████| 39/39 [00:04<00:00,  7.90it/s]\n",
            "  0%|          | 0/350 [00:00<?, ?it/s]"
          ],
          "name": "stderr"
        },
        {
          "output_type": "stream",
          "text": [
            "Best model so far. Saving model...\n",
            "\n",
            "Epoch   7 | Train Loss 5.0630 | Valid Loss 4.5926 | Train Ppl 158.0677 | Valid Ppl 98.7468\n"
          ],
          "name": "stdout"
        },
        {
          "output_type": "stream",
          "text": [
            "100%|██████████| 350/350 [02:15<00:00,  2.90it/s]\n",
            "100%|██████████| 39/39 [00:05<00:00,  7.63it/s]\n",
            "  0%|          | 0/350 [00:00<?, ?it/s]"
          ],
          "name": "stderr"
        },
        {
          "output_type": "stream",
          "text": [
            "Best model so far. Saving model...\n",
            "\n",
            "Epoch   8 | Train Loss 5.0146 | Valid Loss 4.5620 | Train Ppl 150.5938 | Valid Ppl 95.7727\n"
          ],
          "name": "stdout"
        },
        {
          "output_type": "stream",
          "text": [
            "100%|██████████| 350/350 [02:15<00:00,  3.14it/s]\n",
            "100%|██████████| 39/39 [00:05<00:00,  7.50it/s]\n",
            "  0%|          | 0/350 [00:00<?, ?it/s]"
          ],
          "name": "stderr"
        },
        {
          "output_type": "stream",
          "text": [
            "Best model so far. Saving model...\n",
            "\n",
            "Epoch   9 | Train Loss 4.9761 | Valid Loss 4.5394 | Train Ppl 144.9078 | Valid Ppl 93.6362\n"
          ],
          "name": "stdout"
        },
        {
          "output_type": "stream",
          "text": [
            "100%|██████████| 350/350 [02:15<00:00,  2.90it/s]\n",
            "100%|██████████| 39/39 [00:04<00:00,  7.87it/s]\n",
            "  0%|          | 0/350 [00:00<?, ?it/s]"
          ],
          "name": "stderr"
        },
        {
          "output_type": "stream",
          "text": [
            "Best model so far. Saving model...\n",
            "\n",
            "Epoch  10 | Train Loss 4.9428 | Valid Loss 4.5210 | Train Ppl 140.1689 | Valid Ppl 91.9235\n"
          ],
          "name": "stdout"
        },
        {
          "output_type": "stream",
          "text": [
            "100%|██████████| 350/350 [02:16<00:00,  2.92it/s]\n",
            "100%|██████████| 39/39 [00:05<00:00,  7.65it/s]\n",
            "  0%|          | 0/350 [00:00<?, ?it/s]"
          ],
          "name": "stderr"
        },
        {
          "output_type": "stream",
          "text": [
            "Best model so far. Saving model...\n",
            "\n",
            "Epoch  11 | Train Loss 4.9162 | Valid Loss 4.5047 | Train Ppl 136.4849 | Valid Ppl 90.4370\n"
          ],
          "name": "stdout"
        },
        {
          "output_type": "stream",
          "text": [
            "100%|██████████| 350/350 [02:16<00:00,  2.81it/s]\n",
            "100%|██████████| 39/39 [00:05<00:00,  7.80it/s]\n",
            "  0%|          | 0/350 [00:00<?, ?it/s]"
          ],
          "name": "stderr"
        },
        {
          "output_type": "stream",
          "text": [
            "Best model so far. Saving model...\n",
            "\n",
            "Epoch  12 | Train Loss 4.8922 | Valid Loss 4.4951 | Train Ppl 133.2516 | Valid Ppl 89.5791\n"
          ],
          "name": "stdout"
        },
        {
          "output_type": "stream",
          "text": [
            "100%|██████████| 350/350 [02:15<00:00,  3.05it/s]\n",
            "100%|██████████| 39/39 [00:05<00:00,  7.74it/s]\n",
            "  0%|          | 0/350 [00:00<?, ?it/s]"
          ],
          "name": "stderr"
        },
        {
          "output_type": "stream",
          "text": [
            "Best model so far. Saving model...\n",
            "\n",
            "Epoch  13 | Train Loss 4.8721 | Valid Loss 4.4846 | Train Ppl 130.5910 | Valid Ppl 88.6389\n"
          ],
          "name": "stdout"
        },
        {
          "output_type": "stream",
          "text": [
            "100%|██████████| 350/350 [02:16<00:00,  3.04it/s]\n",
            "100%|██████████| 39/39 [00:04<00:00,  7.98it/s]\n",
            "  0%|          | 0/350 [00:00<?, ?it/s]"
          ],
          "name": "stderr"
        },
        {
          "output_type": "stream",
          "text": [
            "Best model so far. Saving model...\n",
            "\n",
            "Epoch  14 | Train Loss 4.8525 | Valid Loss 4.4732 | Train Ppl 128.0559 | Valid Ppl 87.6375\n"
          ],
          "name": "stdout"
        },
        {
          "output_type": "stream",
          "text": [
            "100%|██████████| 350/350 [02:14<00:00,  2.94it/s]\n",
            "100%|██████████| 39/39 [00:05<00:00,  7.79it/s]\n",
            "  0%|          | 0/350 [00:00<?, ?it/s]"
          ],
          "name": "stderr"
        },
        {
          "output_type": "stream",
          "text": [
            "Best model so far. Saving model...\n",
            "\n",
            "Epoch  15 | Train Loss 4.8368 | Valid Loss 4.4673 | Train Ppl 126.0635 | Valid Ppl 87.1221\n"
          ],
          "name": "stdout"
        },
        {
          "output_type": "stream",
          "text": [
            "100%|██████████| 350/350 [02:16<00:00,  2.82it/s]\n",
            "100%|██████████| 39/39 [00:04<00:00,  7.80it/s]\n",
            "  0%|          | 0/350 [00:00<?, ?it/s]"
          ],
          "name": "stderr"
        },
        {
          "output_type": "stream",
          "text": [
            "Best model so far. Saving model...\n",
            "\n",
            "Epoch  16 | Train Loss 4.8225 | Valid Loss 4.4649 | Train Ppl 124.2801 | Valid Ppl 86.9112\n"
          ],
          "name": "stdout"
        },
        {
          "output_type": "stream",
          "text": [
            "100%|██████████| 350/350 [02:15<00:00,  3.15it/s]\n",
            "100%|██████████| 39/39 [00:04<00:00,  7.85it/s]\n",
            "  0%|          | 0/350 [00:00<?, ?it/s]"
          ],
          "name": "stderr"
        },
        {
          "output_type": "stream",
          "text": [
            "Best model so far. Saving model...\n",
            "\n",
            "Epoch  17 | Train Loss 4.8091 | Valid Loss 4.4542 | Train Ppl 122.6211 | Valid Ppl 85.9834\n"
          ],
          "name": "stdout"
        },
        {
          "output_type": "stream",
          "text": [
            "100%|██████████| 350/350 [02:16<00:00,  2.86it/s]\n",
            "100%|██████████| 39/39 [00:05<00:00,  7.73it/s]\n",
            "  0%|          | 0/350 [00:00<?, ?it/s]"
          ],
          "name": "stderr"
        },
        {
          "output_type": "stream",
          "text": [
            "Best model so far. Saving model...\n",
            "\n",
            "Epoch  18 | Train Loss 4.7975 | Valid Loss 4.4526 | Train Ppl 121.2126 | Valid Ppl 85.8511\n"
          ],
          "name": "stdout"
        },
        {
          "output_type": "stream",
          "text": [
            "100%|██████████| 350/350 [02:16<00:00,  3.16it/s]\n",
            "100%|██████████| 39/39 [00:05<00:00,  7.79it/s]\n",
            "  0%|          | 0/350 [00:00<?, ?it/s]"
          ],
          "name": "stderr"
        },
        {
          "output_type": "stream",
          "text": [
            "Best model so far. Saving model...\n",
            "\n",
            "Epoch  19 | Train Loss 4.7866 | Valid Loss 4.4501 | Train Ppl 119.8871 | Valid Ppl 85.6326\n"
          ],
          "name": "stdout"
        },
        {
          "output_type": "stream",
          "text": [
            "100%|██████████| 350/350 [02:15<00:00,  3.32it/s]\n",
            "100%|██████████| 39/39 [00:05<00:00,  7.77it/s]\n",
            "  0%|          | 0/350 [00:00<?, ?it/s]"
          ],
          "name": "stderr"
        },
        {
          "output_type": "stream",
          "text": [
            "Best model so far. Saving model...\n",
            "\n",
            "Epoch  20 | Train Loss 4.7761 | Valid Loss 4.4439 | Train Ppl 118.6431 | Valid Ppl 85.1024\n"
          ],
          "name": "stdout"
        },
        {
          "output_type": "stream",
          "text": [
            "100%|██████████| 350/350 [02:15<00:00,  2.85it/s]\n",
            "100%|██████████| 39/39 [00:05<00:00,  7.79it/s]\n",
            "  0%|          | 0/350 [00:00<?, ?it/s]"
          ],
          "name": "stderr"
        },
        {
          "output_type": "stream",
          "text": [
            "Best model so far. Saving model...\n",
            "\n",
            "Epoch  21 | Train Loss 4.7668 | Valid Loss 4.4395 | Train Ppl 117.5448 | Valid Ppl 84.7298\n"
          ],
          "name": "stdout"
        },
        {
          "output_type": "stream",
          "text": [
            "100%|██████████| 350/350 [02:16<00:00,  2.93it/s]\n",
            "100%|██████████| 39/39 [00:05<00:00,  7.63it/s]\n",
            "  0%|          | 0/350 [00:00<?, ?it/s]"
          ],
          "name": "stderr"
        },
        {
          "output_type": "stream",
          "text": [
            "\n",
            "Epoch  22 | Train Loss 4.7573 | Valid Loss 4.4405 | Train Ppl 116.4301 | Valid Ppl 84.8194\n"
          ],
          "name": "stdout"
        },
        {
          "output_type": "stream",
          "text": [
            "100%|██████████| 350/350 [02:14<00:00,  2.95it/s]\n",
            "100%|██████████| 39/39 [00:04<00:00,  8.11it/s]\n",
            "  0%|          | 0/350 [00:00<?, ?it/s]"
          ],
          "name": "stderr"
        },
        {
          "output_type": "stream",
          "text": [
            "Best model so far. Saving model...\n",
            "\n",
            "Epoch  23 | Train Loss 4.7502 | Valid Loss 4.4353 | Train Ppl 115.6085 | Valid Ppl 84.3785\n"
          ],
          "name": "stdout"
        },
        {
          "output_type": "stream",
          "text": [
            "100%|██████████| 350/350 [02:16<00:00,  2.79it/s]\n",
            "100%|██████████| 39/39 [00:05<00:00,  7.71it/s]\n",
            "  0%|          | 0/350 [00:00<?, ?it/s]"
          ],
          "name": "stderr"
        },
        {
          "output_type": "stream",
          "text": [
            "Best model so far. Saving model...\n",
            "\n",
            "Epoch  24 | Train Loss 4.7434 | Valid Loss 4.4300 | Train Ppl 114.8254 | Valid Ppl 83.9350\n"
          ],
          "name": "stdout"
        },
        {
          "output_type": "stream",
          "text": [
            "100%|██████████| 350/350 [02:15<00:00,  3.22it/s]\n",
            "100%|██████████| 39/39 [00:05<00:00,  7.68it/s]\n",
            "  0%|          | 0/350 [00:00<?, ?it/s]"
          ],
          "name": "stderr"
        },
        {
          "output_type": "stream",
          "text": [
            "\n",
            "Epoch  25 | Train Loss 4.7362 | Valid Loss 4.4306 | Train Ppl 114.0001 | Valid Ppl 83.9801\n"
          ],
          "name": "stdout"
        },
        {
          "output_type": "stream",
          "text": [
            "100%|██████████| 350/350 [02:16<00:00,  2.97it/s]\n",
            "100%|██████████| 39/39 [00:04<00:00,  8.08it/s]\n",
            "  0%|          | 0/350 [00:00<?, ?it/s]"
          ],
          "name": "stderr"
        },
        {
          "output_type": "stream",
          "text": [
            "Best model so far. Saving model...\n",
            "\n",
            "Epoch  26 | Train Loss 4.7335 | Valid Loss 4.4297 | Train Ppl 113.6968 | Valid Ppl 83.9036\n"
          ],
          "name": "stdout"
        },
        {
          "output_type": "stream",
          "text": [
            "100%|██████████| 350/350 [02:17<00:00,  2.87it/s]\n",
            "100%|██████████| 39/39 [00:05<00:00,  7.46it/s]\n",
            "  0%|          | 0/350 [00:00<?, ?it/s]"
          ],
          "name": "stderr"
        },
        {
          "output_type": "stream",
          "text": [
            "Best model so far. Saving model...\n",
            "\n",
            "Epoch  27 | Train Loss 4.7242 | Valid Loss 4.4286 | Train Ppl 112.6417 | Valid Ppl 83.8105\n"
          ],
          "name": "stdout"
        },
        {
          "output_type": "stream",
          "text": [
            "100%|██████████| 350/350 [02:16<00:00,  3.03it/s]\n",
            "100%|██████████| 39/39 [00:04<00:00,  7.94it/s]\n",
            "  0%|          | 0/350 [00:00<?, ?it/s]"
          ],
          "name": "stderr"
        },
        {
          "output_type": "stream",
          "text": [
            "Best model so far. Saving model...\n",
            "\n",
            "Epoch  28 | Train Loss 4.7202 | Valid Loss 4.4217 | Train Ppl 112.1859 | Valid Ppl 83.2360\n"
          ],
          "name": "stdout"
        },
        {
          "output_type": "stream",
          "text": [
            "100%|██████████| 350/350 [02:16<00:00,  2.79it/s]\n",
            "100%|██████████| 39/39 [00:05<00:00,  7.73it/s]\n",
            "  0%|          | 0/350 [00:00<?, ?it/s]"
          ],
          "name": "stderr"
        },
        {
          "output_type": "stream",
          "text": [
            "\n",
            "Epoch  29 | Train Loss 4.7121 | Valid Loss 4.4272 | Train Ppl 111.2802 | Valid Ppl 83.6955\n"
          ],
          "name": "stdout"
        },
        {
          "output_type": "stream",
          "text": [
            "100%|██████████| 350/350 [02:15<00:00,  3.24it/s]\n",
            "100%|██████████| 39/39 [00:04<00:00,  7.84it/s]\n",
            "  0%|          | 0/350 [00:00<?, ?it/s]"
          ],
          "name": "stderr"
        },
        {
          "output_type": "stream",
          "text": [
            "\n",
            "Epoch  30 | Train Loss 4.7096 | Valid Loss 4.4295 | Train Ppl 111.0055 | Valid Ppl 83.8871\n"
          ],
          "name": "stdout"
        },
        {
          "output_type": "stream",
          "text": [
            "100%|██████████| 350/350 [02:17<00:00,  2.82it/s]\n",
            "100%|██████████| 39/39 [00:05<00:00,  7.70it/s]\n",
            "  0%|          | 0/350 [00:00<?, ?it/s]"
          ],
          "name": "stderr"
        },
        {
          "output_type": "stream",
          "text": [
            "\n",
            "Epoch  31 | Train Loss 4.7059 | Valid Loss 4.4264 | Train Ppl 110.5933 | Valid Ppl 83.6259\n"
          ],
          "name": "stdout"
        },
        {
          "output_type": "stream",
          "text": [
            "100%|██████████| 350/350 [02:17<00:00,  2.96it/s]\n",
            "100%|██████████| 39/39 [00:04<00:00,  7.81it/s]\n",
            "  0%|          | 0/350 [00:00<?, ?it/s]"
          ],
          "name": "stderr"
        },
        {
          "output_type": "stream",
          "text": [
            "Best model so far. Saving model...\n",
            "\n",
            "Epoch  32 | Train Loss 4.7009 | Valid Loss 4.4214 | Train Ppl 110.0421 | Valid Ppl 83.2137\n"
          ],
          "name": "stdout"
        },
        {
          "output_type": "stream",
          "text": [
            "100%|██████████| 350/350 [02:15<00:00,  3.11it/s]\n",
            "100%|██████████| 39/39 [00:04<00:00,  7.84it/s]\n",
            "  0%|          | 0/350 [00:00<?, ?it/s]"
          ],
          "name": "stderr"
        },
        {
          "output_type": "stream",
          "text": [
            "\n",
            "Epoch  33 | Train Loss 4.6978 | Valid Loss 4.4232 | Train Ppl 109.7004 | Valid Ppl 83.3589\n"
          ],
          "name": "stdout"
        },
        {
          "output_type": "stream",
          "text": [
            "100%|██████████| 350/350 [02:15<00:00,  3.09it/s]\n",
            "100%|██████████| 39/39 [00:05<00:00,  7.74it/s]\n",
            "  0%|          | 0/350 [00:00<?, ?it/s]"
          ],
          "name": "stderr"
        },
        {
          "output_type": "stream",
          "text": [
            "Best model so far. Saving model...\n",
            "\n",
            "Epoch  34 | Train Loss 4.6935 | Valid Loss 4.4192 | Train Ppl 109.2314 | Valid Ppl 83.0294\n"
          ],
          "name": "stdout"
        },
        {
          "output_type": "stream",
          "text": [
            "100%|██████████| 350/350 [02:17<00:00,  3.02it/s]\n",
            "100%|██████████| 39/39 [00:04<00:00,  7.83it/s]\n",
            "  0%|          | 0/350 [00:00<?, ?it/s]"
          ],
          "name": "stderr"
        },
        {
          "output_type": "stream",
          "text": [
            "Best model so far. Saving model...\n",
            "\n",
            "Epoch  35 | Train Loss 4.6902 | Valid Loss 4.4190 | Train Ppl 108.8767 | Valid Ppl 83.0170\n"
          ],
          "name": "stdout"
        },
        {
          "output_type": "stream",
          "text": [
            "100%|██████████| 350/350 [02:17<00:00,  3.04it/s]\n",
            "100%|██████████| 39/39 [00:05<00:00,  7.70it/s]\n",
            "  0%|          | 0/350 [00:00<?, ?it/s]"
          ],
          "name": "stderr"
        },
        {
          "output_type": "stream",
          "text": [
            "\n",
            "Epoch  36 | Train Loss 4.6855 | Valid Loss 4.4217 | Train Ppl 108.3678 | Valid Ppl 83.2363\n"
          ],
          "name": "stdout"
        },
        {
          "output_type": "stream",
          "text": [
            "100%|██████████| 350/350 [02:17<00:00,  3.11it/s]\n",
            "100%|██████████| 39/39 [00:05<00:00,  7.72it/s]\n",
            "  0%|          | 0/350 [00:00<?, ?it/s]"
          ],
          "name": "stderr"
        },
        {
          "output_type": "stream",
          "text": [
            "Best model so far. Saving model...\n",
            "\n",
            "Epoch  37 | Train Loss 4.6822 | Valid Loss 4.4185 | Train Ppl 108.0100 | Valid Ppl 82.9739\n"
          ],
          "name": "stdout"
        },
        {
          "output_type": "stream",
          "text": [
            "100%|██████████| 350/350 [02:18<00:00,  3.12it/s]\n",
            "100%|██████████| 39/39 [00:04<00:00,  7.89it/s]\n",
            "  0%|          | 0/350 [00:00<?, ?it/s]"
          ],
          "name": "stderr"
        },
        {
          "output_type": "stream",
          "text": [
            "\n",
            "Epoch  38 | Train Loss 4.6807 | Valid Loss 4.4187 | Train Ppl 107.8462 | Valid Ppl 82.9897\n"
          ],
          "name": "stdout"
        },
        {
          "output_type": "stream",
          "text": [
            "100%|██████████| 350/350 [02:17<00:00,  3.09it/s]\n",
            "100%|██████████| 39/39 [00:05<00:00,  7.73it/s]\n",
            "  0%|          | 0/350 [00:00<?, ?it/s]"
          ],
          "name": "stderr"
        },
        {
          "output_type": "stream",
          "text": [
            "\n",
            "Epoch  39 | Train Loss 4.6771 | Valid Loss 4.4233 | Train Ppl 107.4585 | Valid Ppl 83.3682\n"
          ],
          "name": "stdout"
        },
        {
          "output_type": "stream",
          "text": [
            "100%|██████████| 350/350 [02:16<00:00,  2.83it/s]\n",
            "100%|██████████| 39/39 [00:05<00:00,  7.79it/s]\n",
            "  0%|          | 0/350 [00:00<?, ?it/s]"
          ],
          "name": "stderr"
        },
        {
          "output_type": "stream",
          "text": [
            "\n",
            "Epoch  40 | Train Loss 4.6748 | Valid Loss 4.4195 | Train Ppl 107.2105 | Valid Ppl 83.0535\n"
          ],
          "name": "stdout"
        },
        {
          "output_type": "stream",
          "text": [
            "100%|██████████| 350/350 [02:16<00:00,  2.92it/s]\n",
            "100%|██████████| 39/39 [00:04<00:00,  7.86it/s]\n",
            "  0%|          | 0/350 [00:00<?, ?it/s]"
          ],
          "name": "stderr"
        },
        {
          "output_type": "stream",
          "text": [
            "Best model so far. Saving model...\n",
            "\n",
            "Epoch  41 | Train Loss 4.6718 | Valid Loss 4.4142 | Train Ppl 106.8938 | Valid Ppl 82.6155\n"
          ],
          "name": "stdout"
        },
        {
          "output_type": "stream",
          "text": [
            "100%|██████████| 350/350 [02:16<00:00,  2.98it/s]\n",
            "100%|██████████| 39/39 [00:04<00:00,  7.81it/s]\n",
            "  0%|          | 0/350 [00:00<?, ?it/s]"
          ],
          "name": "stderr"
        },
        {
          "output_type": "stream",
          "text": [
            "Best model so far. Saving model...\n",
            "\n",
            "Epoch  42 | Train Loss 4.6708 | Valid Loss 4.4140 | Train Ppl 106.7864 | Valid Ppl 82.6032\n"
          ],
          "name": "stdout"
        },
        {
          "output_type": "stream",
          "text": [
            "100%|██████████| 350/350 [02:17<00:00,  3.10it/s]\n",
            "100%|██████████| 39/39 [00:04<00:00,  7.89it/s]\n",
            "  0%|          | 0/350 [00:00<?, ?it/s]"
          ],
          "name": "stderr"
        },
        {
          "output_type": "stream",
          "text": [
            "\n",
            "Epoch  43 | Train Loss 4.6683 | Valid Loss 4.4176 | Train Ppl 106.5214 | Valid Ppl 82.8969\n"
          ],
          "name": "stdout"
        },
        {
          "output_type": "stream",
          "text": [
            "100%|██████████| 350/350 [02:16<00:00,  2.82it/s]\n",
            "100%|██████████| 39/39 [00:04<00:00,  7.89it/s]\n",
            "  0%|          | 0/350 [00:00<?, ?it/s]"
          ],
          "name": "stderr"
        },
        {
          "output_type": "stream",
          "text": [
            "Best model so far. Saving model...\n",
            "\n",
            "Epoch  44 | Train Loss 4.6642 | Valid Loss 4.4118 | Train Ppl 106.0771 | Valid Ppl 82.4205\n"
          ],
          "name": "stdout"
        },
        {
          "output_type": "stream",
          "text": [
            "100%|██████████| 350/350 [02:17<00:00,  3.28it/s]\n",
            "100%|██████████| 39/39 [00:05<00:00,  7.72it/s]\n",
            "  0%|          | 0/350 [00:00<?, ?it/s]"
          ],
          "name": "stderr"
        },
        {
          "output_type": "stream",
          "text": [
            "\n",
            "Epoch  45 | Train Loss 4.6641 | Valid Loss 4.4177 | Train Ppl 106.0705 | Valid Ppl 82.9079\n"
          ],
          "name": "stdout"
        },
        {
          "output_type": "stream",
          "text": [
            "100%|██████████| 350/350 [02:18<00:00,  3.05it/s]\n",
            "100%|██████████| 39/39 [00:04<00:00,  7.92it/s]\n",
            "  0%|          | 0/350 [00:00<?, ?it/s]"
          ],
          "name": "stderr"
        },
        {
          "output_type": "stream",
          "text": [
            "\n",
            "Epoch  46 | Train Loss 4.6604 | Valid Loss 4.4147 | Train Ppl 105.6831 | Valid Ppl 82.6594\n"
          ],
          "name": "stdout"
        },
        {
          "output_type": "stream",
          "text": [
            "100%|██████████| 350/350 [02:17<00:00,  2.77it/s]\n",
            "100%|██████████| 39/39 [00:05<00:00,  7.74it/s]\n",
            "  0%|          | 0/350 [00:00<?, ?it/s]"
          ],
          "name": "stderr"
        },
        {
          "output_type": "stream",
          "text": [
            "\n",
            "Epoch  47 | Train Loss 4.6584 | Valid Loss 4.4145 | Train Ppl 105.4701 | Valid Ppl 82.6397\n"
          ],
          "name": "stdout"
        },
        {
          "output_type": "stream",
          "text": [
            "100%|██████████| 350/350 [02:17<00:00,  3.19it/s]\n",
            "100%|██████████| 39/39 [00:05<00:00,  7.78it/s]\n",
            "  0%|          | 0/350 [00:00<?, ?it/s]"
          ],
          "name": "stderr"
        },
        {
          "output_type": "stream",
          "text": [
            "Best model so far. Saving model...\n",
            "\n",
            "Epoch  48 | Train Loss 4.6568 | Valid Loss 4.4074 | Train Ppl 105.3034 | Valid Ppl 82.0570\n"
          ],
          "name": "stdout"
        },
        {
          "output_type": "stream",
          "text": [
            "100%|██████████| 350/350 [02:17<00:00,  2.95it/s]\n",
            "100%|██████████| 39/39 [00:04<00:00,  9.02it/s]\n",
            "  0%|          | 0/350 [00:00<?, ?it/s]"
          ],
          "name": "stderr"
        },
        {
          "output_type": "stream",
          "text": [
            "\n",
            "Epoch  49 | Train Loss 4.6578 | Valid Loss 4.4132 | Train Ppl 105.4058 | Valid Ppl 82.5311\n"
          ],
          "name": "stdout"
        },
        {
          "output_type": "stream",
          "text": [
            "100%|██████████| 350/350 [02:17<00:00,  3.22it/s]\n",
            "100%|██████████| 39/39 [00:04<00:00, 10.09it/s]\n",
            "  0%|          | 0/350 [00:00<?, ?it/s]"
          ],
          "name": "stderr"
        },
        {
          "output_type": "stream",
          "text": [
            "\n",
            "Epoch  50 | Train Loss 4.6546 | Valid Loss 4.4098 | Train Ppl 105.0670 | Valid Ppl 82.2545\n"
          ],
          "name": "stdout"
        },
        {
          "output_type": "stream",
          "text": [
            "100%|██████████| 350/350 [02:17<00:00,  3.08it/s]\n",
            "100%|██████████| 39/39 [00:05<00:00,  8.94it/s]\n",
            "  0%|          | 0/350 [00:00<?, ?it/s]"
          ],
          "name": "stderr"
        },
        {
          "output_type": "stream",
          "text": [
            "\n",
            "Epoch  51 | Train Loss 4.6509 | Valid Loss 4.4121 | Train Ppl 104.6785 | Valid Ppl 82.4406\n"
          ],
          "name": "stdout"
        },
        {
          "output_type": "stream",
          "text": [
            "100%|██████████| 350/350 [02:18<00:00,  2.98it/s]\n",
            "100%|██████████| 39/39 [00:04<00:00,  7.88it/s]\n",
            "  0%|          | 0/350 [00:00<?, ?it/s]"
          ],
          "name": "stderr"
        },
        {
          "output_type": "stream",
          "text": [
            "Best model so far. Saving model...\n",
            "\n",
            "Epoch  52 | Train Loss 4.6498 | Valid Loss 4.4074 | Train Ppl 104.5657 | Valid Ppl 82.0531\n"
          ],
          "name": "stdout"
        },
        {
          "output_type": "stream",
          "text": [
            "100%|██████████| 350/350 [02:17<00:00,  3.05it/s]\n",
            "100%|██████████| 39/39 [00:05<00:00,  7.76it/s]\n",
            "  0%|          | 0/350 [00:00<?, ?it/s]"
          ],
          "name": "stderr"
        },
        {
          "output_type": "stream",
          "text": [
            "Best model so far. Saving model...\n",
            "\n",
            "Epoch  53 | Train Loss 4.6480 | Valid Loss 4.4063 | Train Ppl 104.3763 | Valid Ppl 81.9687\n"
          ],
          "name": "stdout"
        },
        {
          "output_type": "stream",
          "text": [
            "100%|██████████| 350/350 [02:19<00:00,  3.00it/s]\n",
            "100%|██████████| 39/39 [00:05<00:00,  7.68it/s]\n",
            "  0%|          | 0/350 [00:00<?, ?it/s]"
          ],
          "name": "stderr"
        },
        {
          "output_type": "stream",
          "text": [
            "\n",
            "Epoch  54 | Train Loss 4.6465 | Valid Loss 4.4107 | Train Ppl 104.2233 | Valid Ppl 82.3268\n"
          ],
          "name": "stdout"
        },
        {
          "output_type": "stream",
          "text": [
            "100%|██████████| 350/350 [02:17<00:00,  2.78it/s]\n",
            "100%|██████████| 39/39 [00:05<00:00,  7.67it/s]\n",
            "  0%|          | 0/350 [00:00<?, ?it/s]"
          ],
          "name": "stderr"
        },
        {
          "output_type": "stream",
          "text": [
            "\n",
            "Epoch  55 | Train Loss 4.6449 | Valid Loss 4.4100 | Train Ppl 104.0516 | Valid Ppl 82.2724\n"
          ],
          "name": "stdout"
        },
        {
          "output_type": "stream",
          "text": [
            "100%|██████████| 350/350 [02:18<00:00,  3.04it/s]\n",
            "100%|██████████| 39/39 [00:05<00:00,  7.77it/s]\n",
            "  0%|          | 0/350 [00:00<?, ?it/s]"
          ],
          "name": "stderr"
        },
        {
          "output_type": "stream",
          "text": [
            "Best model so far. Saving model...\n",
            "\n",
            "Epoch  56 | Train Loss 4.6428 | Valid Loss 4.4056 | Train Ppl 103.8319 | Valid Ppl 81.9075\n"
          ],
          "name": "stdout"
        },
        {
          "output_type": "stream",
          "text": [
            "100%|██████████| 350/350 [02:17<00:00,  2.92it/s]\n",
            "100%|██████████| 39/39 [00:04<00:00,  7.82it/s]\n",
            "  0%|          | 0/350 [00:00<?, ?it/s]"
          ],
          "name": "stderr"
        },
        {
          "output_type": "stream",
          "text": [
            "\n",
            "Epoch  57 | Train Loss 4.6416 | Valid Loss 4.4127 | Train Ppl 103.7076 | Valid Ppl 82.4923\n"
          ],
          "name": "stdout"
        },
        {
          "output_type": "stream",
          "text": [
            "100%|██████████| 350/350 [02:17<00:00,  3.18it/s]\n",
            "100%|██████████| 39/39 [00:04<00:00,  7.98it/s]\n",
            "  0%|          | 0/350 [00:00<?, ?it/s]"
          ],
          "name": "stderr"
        },
        {
          "output_type": "stream",
          "text": [
            "\n",
            "Epoch  58 | Train Loss 4.6399 | Valid Loss 4.4092 | Train Ppl 103.5380 | Valid Ppl 82.2018\n"
          ],
          "name": "stdout"
        },
        {
          "output_type": "stream",
          "text": [
            "100%|██████████| 350/350 [02:18<00:00,  2.79it/s]\n",
            "100%|██████████| 39/39 [00:05<00:00,  7.72it/s]\n",
            "  0%|          | 0/350 [00:00<?, ?it/s]"
          ],
          "name": "stderr"
        },
        {
          "output_type": "stream",
          "text": [
            "\n",
            "Epoch  59 | Train Loss 4.6376 | Valid Loss 4.4134 | Train Ppl 103.2937 | Valid Ppl 82.5488\n"
          ],
          "name": "stdout"
        },
        {
          "output_type": "stream",
          "text": [
            "100%|██████████| 350/350 [02:16<00:00,  3.14it/s]\n",
            "100%|██████████| 39/39 [00:04<00:00,  9.16it/s]\n",
            "  0%|          | 0/350 [00:00<?, ?it/s]"
          ],
          "name": "stderr"
        },
        {
          "output_type": "stream",
          "text": [
            "\n",
            "Epoch  60 | Train Loss 4.6367 | Valid Loss 4.4085 | Train Ppl 103.2073 | Valid Ppl 82.1425\n"
          ],
          "name": "stdout"
        },
        {
          "output_type": "stream",
          "text": [
            "100%|██████████| 350/350 [02:17<00:00,  3.05it/s]\n",
            "100%|██████████| 39/39 [00:05<00:00,  7.64it/s]\n",
            "  0%|          | 0/350 [00:00<?, ?it/s]"
          ],
          "name": "stderr"
        },
        {
          "output_type": "stream",
          "text": [
            "\n",
            "Epoch  61 | Train Loss 4.6379 | Valid Loss 4.4093 | Train Ppl 103.3265 | Valid Ppl 82.2135\n"
          ],
          "name": "stdout"
        },
        {
          "output_type": "stream",
          "text": [
            "100%|██████████| 350/350 [02:18<00:00,  2.93it/s]\n",
            "100%|██████████| 39/39 [00:04<00:00,  8.12it/s]\n",
            "  0%|          | 0/350 [00:00<?, ?it/s]"
          ],
          "name": "stderr"
        },
        {
          "output_type": "stream",
          "text": [
            "\n",
            "Epoch  62 | Train Loss 4.6349 | Valid Loss 4.4131 | Train Ppl 103.0206 | Valid Ppl 82.5229\n"
          ],
          "name": "stdout"
        },
        {
          "output_type": "stream",
          "text": [
            "100%|██████████| 350/350 [02:18<00:00,  2.87it/s]\n",
            "100%|██████████| 39/39 [00:04<00:00,  8.22it/s]\n",
            "  0%|          | 0/350 [00:00<?, ?it/s]"
          ],
          "name": "stderr"
        },
        {
          "output_type": "stream",
          "text": [
            "\n",
            "Epoch  63 | Train Loss 4.6342 | Valid Loss 4.4124 | Train Ppl 102.9469 | Valid Ppl 82.4659\n"
          ],
          "name": "stdout"
        },
        {
          "output_type": "stream",
          "text": [
            "100%|██████████| 350/350 [02:17<00:00,  3.21it/s]\n",
            "100%|██████████| 39/39 [00:04<00:00,  7.84it/s]\n",
            "  0%|          | 0/350 [00:00<?, ?it/s]"
          ],
          "name": "stderr"
        },
        {
          "output_type": "stream",
          "text": [
            "\n",
            "Epoch  64 | Train Loss 4.6327 | Valid Loss 4.4115 | Train Ppl 102.7924 | Valid Ppl 82.3951\n"
          ],
          "name": "stdout"
        },
        {
          "output_type": "stream",
          "text": [
            "100%|██████████| 350/350 [02:15<00:00,  2.76it/s]\n",
            "100%|██████████| 39/39 [00:04<00:00,  7.96it/s]\n",
            "  0%|          | 0/350 [00:00<?, ?it/s]"
          ],
          "name": "stderr"
        },
        {
          "output_type": "stream",
          "text": [
            "\n",
            "Epoch  65 | Train Loss 4.6315 | Valid Loss 4.4083 | Train Ppl 102.6693 | Valid Ppl 82.1330\n"
          ],
          "name": "stdout"
        },
        {
          "output_type": "stream",
          "text": [
            "100%|██████████| 350/350 [02:16<00:00,  2.97it/s]\n",
            "100%|██████████| 39/39 [00:04<00:00,  7.94it/s]\n",
            "  0%|          | 0/350 [00:00<?, ?it/s]"
          ],
          "name": "stderr"
        },
        {
          "output_type": "stream",
          "text": [
            "Best model so far. Saving model...\n",
            "\n",
            "Epoch  66 | Train Loss 4.6300 | Valid Loss 4.4047 | Train Ppl 102.5141 | Valid Ppl 81.8338\n"
          ],
          "name": "stdout"
        },
        {
          "output_type": "stream",
          "text": [
            "100%|██████████| 350/350 [02:17<00:00,  3.08it/s]\n",
            "100%|██████████| 39/39 [00:04<00:00,  8.01it/s]\n",
            "  0%|          | 0/350 [00:00<?, ?it/s]"
          ],
          "name": "stderr"
        },
        {
          "output_type": "stream",
          "text": [
            "Best model so far. Saving model...\n",
            "\n",
            "Epoch  67 | Train Loss 4.6288 | Valid Loss 4.4040 | Train Ppl 102.3890 | Valid Ppl 81.7779\n"
          ],
          "name": "stdout"
        },
        {
          "output_type": "stream",
          "text": [
            "100%|██████████| 350/350 [02:17<00:00,  3.00it/s]\n",
            "100%|██████████| 39/39 [00:04<00:00,  7.81it/s]\n",
            "  0%|          | 0/350 [00:00<?, ?it/s]"
          ],
          "name": "stderr"
        },
        {
          "output_type": "stream",
          "text": [
            "\n",
            "Epoch  68 | Train Loss 4.6277 | Valid Loss 4.4107 | Train Ppl 102.2786 | Valid Ppl 82.3291\n"
          ],
          "name": "stdout"
        },
        {
          "output_type": "stream",
          "text": [
            "100%|██████████| 350/350 [02:16<00:00,  3.21it/s]\n",
            "100%|██████████| 39/39 [00:04<00:00,  7.87it/s]\n",
            "  0%|          | 0/350 [00:00<?, ?it/s]"
          ],
          "name": "stderr"
        },
        {
          "output_type": "stream",
          "text": [
            "\n",
            "Epoch  69 | Train Loss 4.6288 | Valid Loss 4.4098 | Train Ppl 102.3900 | Valid Ppl 82.2563\n"
          ],
          "name": "stdout"
        },
        {
          "output_type": "stream",
          "text": [
            "100%|██████████| 350/350 [02:17<00:00,  3.07it/s]\n",
            "100%|██████████| 39/39 [00:05<00:00,  7.73it/s]\n",
            "  0%|          | 0/350 [00:00<?, ?it/s]"
          ],
          "name": "stderr"
        },
        {
          "output_type": "stream",
          "text": [
            "\n",
            "Epoch  70 | Train Loss 4.6290 | Valid Loss 4.4116 | Train Ppl 102.4115 | Valid Ppl 82.4053\n"
          ],
          "name": "stdout"
        },
        {
          "output_type": "stream",
          "text": [
            "100%|██████████| 350/350 [02:17<00:00,  3.17it/s]\n",
            "100%|██████████| 39/39 [00:03<00:00, 12.22it/s]\n",
            "  0%|          | 0/350 [00:00<?, ?it/s]"
          ],
          "name": "stderr"
        },
        {
          "output_type": "stream",
          "text": [
            "\n",
            "Epoch  71 | Train Loss 4.6254 | Valid Loss 4.4138 | Train Ppl 102.0479 | Valid Ppl 82.5796\n"
          ],
          "name": "stdout"
        },
        {
          "output_type": "stream",
          "text": [
            "100%|██████████| 350/350 [02:14<00:00,  2.87it/s]\n",
            "100%|██████████| 39/39 [00:05<00:00,  7.56it/s]\n",
            "  0%|          | 0/350 [00:00<?, ?it/s]"
          ],
          "name": "stderr"
        },
        {
          "output_type": "stream",
          "text": [
            "\n",
            "Epoch  72 | Train Loss 4.6240 | Valid Loss 4.4124 | Train Ppl 101.9033 | Valid Ppl 82.4671\n"
          ],
          "name": "stdout"
        },
        {
          "output_type": "stream",
          "text": [
            "100%|██████████| 350/350 [02:15<00:00,  3.25it/s]\n",
            "100%|██████████| 39/39 [00:05<00:00,  7.71it/s]\n",
            "  0%|          | 0/350 [00:00<?, ?it/s]"
          ],
          "name": "stderr"
        },
        {
          "output_type": "stream",
          "text": [
            "\n",
            "Epoch  73 | Train Loss 4.6216 | Valid Loss 4.4047 | Train Ppl 101.6553 | Valid Ppl 81.8334\n"
          ],
          "name": "stdout"
        },
        {
          "output_type": "stream",
          "text": [
            "100%|██████████| 350/350 [02:14<00:00,  3.13it/s]\n",
            "100%|██████████| 39/39 [00:04<00:00,  7.82it/s]\n",
            "  0%|          | 0/350 [00:00<?, ?it/s]"
          ],
          "name": "stderr"
        },
        {
          "output_type": "stream",
          "text": [
            "\n",
            "Epoch  74 | Train Loss 4.6227 | Valid Loss 4.4101 | Train Ppl 101.7694 | Valid Ppl 82.2805\n"
          ],
          "name": "stdout"
        },
        {
          "output_type": "stream",
          "text": [
            "100%|██████████| 350/350 [02:13<00:00,  2.77it/s]\n",
            "100%|██████████| 39/39 [00:04<00:00,  7.92it/s]\n",
            "  0%|          | 0/350 [00:00<?, ?it/s]"
          ],
          "name": "stderr"
        },
        {
          "output_type": "stream",
          "text": [
            "\n",
            "Epoch  75 | Train Loss 4.6203 | Valid Loss 4.4106 | Train Ppl 101.5277 | Valid Ppl 82.3220\n"
          ],
          "name": "stdout"
        },
        {
          "output_type": "stream",
          "text": [
            "100%|██████████| 350/350 [02:16<00:00,  3.01it/s]\n",
            "100%|██████████| 39/39 [00:05<00:00,  7.77it/s]\n",
            "  0%|          | 0/350 [00:00<?, ?it/s]"
          ],
          "name": "stderr"
        },
        {
          "output_type": "stream",
          "text": [
            "\n",
            "Epoch  76 | Train Loss 4.6200 | Valid Loss 4.4076 | Train Ppl 101.4974 | Valid Ppl 82.0717\n"
          ],
          "name": "stdout"
        },
        {
          "output_type": "stream",
          "text": [
            "100%|██████████| 350/350 [02:15<00:00,  2.81it/s]\n",
            "100%|██████████| 39/39 [00:05<00:00,  7.64it/s]\n",
            "  0%|          | 0/350 [00:00<?, ?it/s]"
          ],
          "name": "stderr"
        },
        {
          "output_type": "stream",
          "text": [
            "\n",
            "Epoch  77 | Train Loss 4.6214 | Valid Loss 4.4091 | Train Ppl 101.6369 | Valid Ppl 82.1956\n"
          ],
          "name": "stdout"
        },
        {
          "output_type": "stream",
          "text": [
            "100%|██████████| 350/350 [02:17<00:00,  2.78it/s]\n",
            "100%|██████████| 39/39 [00:05<00:00,  7.43it/s]\n",
            "  0%|          | 0/350 [00:00<?, ?it/s]"
          ],
          "name": "stderr"
        },
        {
          "output_type": "stream",
          "text": [
            "\n",
            "Epoch  78 | Train Loss 4.6189 | Valid Loss 4.4056 | Train Ppl 101.3792 | Valid Ppl 81.9117\n"
          ],
          "name": "stdout"
        },
        {
          "output_type": "stream",
          "text": [
            "100%|██████████| 350/350 [02:16<00:00,  2.82it/s]\n",
            "100%|██████████| 39/39 [00:05<00:00,  7.67it/s]\n",
            "  0%|          | 0/350 [00:00<?, ?it/s]"
          ],
          "name": "stderr"
        },
        {
          "output_type": "stream",
          "text": [
            "\n",
            "Epoch  79 | Train Loss 4.6209 | Valid Loss 4.4107 | Train Ppl 101.5903 | Valid Ppl 82.3297\n"
          ],
          "name": "stdout"
        },
        {
          "output_type": "stream",
          "text": [
            "100%|██████████| 350/350 [02:15<00:00,  3.15it/s]\n",
            "100%|██████████| 39/39 [00:04<00:00,  7.86it/s]\n",
            "  0%|          | 0/350 [00:00<?, ?it/s]"
          ],
          "name": "stderr"
        },
        {
          "output_type": "stream",
          "text": [
            "\n",
            "Epoch  80 | Train Loss 4.6161 | Valid Loss 4.4080 | Train Ppl 101.0947 | Valid Ppl 82.1027\n"
          ],
          "name": "stdout"
        },
        {
          "output_type": "stream",
          "text": [
            "100%|██████████| 350/350 [02:16<00:00,  3.26it/s]\n",
            "100%|██████████| 39/39 [00:04<00:00,  8.03it/s]\n",
            "  0%|          | 0/350 [00:00<?, ?it/s]"
          ],
          "name": "stderr"
        },
        {
          "output_type": "stream",
          "text": [
            "\n",
            "Epoch  81 | Train Loss 4.6156 | Valid Loss 4.4097 | Train Ppl 101.0465 | Valid Ppl 82.2437\n"
          ],
          "name": "stdout"
        },
        {
          "output_type": "stream",
          "text": [
            "100%|██████████| 350/350 [02:16<00:00,  2.95it/s]\n",
            "100%|██████████| 39/39 [00:05<00:00,  7.60it/s]\n",
            "  0%|          | 0/350 [00:00<?, ?it/s]"
          ],
          "name": "stderr"
        },
        {
          "output_type": "stream",
          "text": [
            "\n",
            "Epoch  82 | Train Loss 4.6172 | Valid Loss 4.4081 | Train Ppl 101.2149 | Valid Ppl 82.1159\n"
          ],
          "name": "stdout"
        },
        {
          "output_type": "stream",
          "text": [
            "100%|██████████| 350/350 [02:16<00:00,  2.97it/s]\n",
            "100%|██████████| 39/39 [00:04<00:00,  7.91it/s]\n",
            "  0%|          | 0/350 [00:00<?, ?it/s]"
          ],
          "name": "stderr"
        },
        {
          "output_type": "stream",
          "text": [
            "\n",
            "Epoch  83 | Train Loss 4.6160 | Valid Loss 4.4095 | Train Ppl 101.0878 | Valid Ppl 82.2258\n"
          ],
          "name": "stdout"
        },
        {
          "output_type": "stream",
          "text": [
            "100%|██████████| 350/350 [02:15<00:00,  3.00it/s]\n",
            "100%|██████████| 39/39 [00:05<00:00,  8.68it/s]\n",
            "  0%|          | 0/350 [00:00<?, ?it/s]"
          ],
          "name": "stderr"
        },
        {
          "output_type": "stream",
          "text": [
            "\n",
            "Epoch  84 | Train Loss 4.6132 | Valid Loss 4.4067 | Train Ppl 100.8016 | Valid Ppl 82.0001\n"
          ],
          "name": "stdout"
        },
        {
          "output_type": "stream",
          "text": [
            "100%|██████████| 350/350 [02:14<00:00,  2.98it/s]\n",
            "100%|██████████| 39/39 [00:05<00:00,  7.49it/s]\n",
            "  0%|          | 0/350 [00:00<?, ?it/s]"
          ],
          "name": "stderr"
        },
        {
          "output_type": "stream",
          "text": [
            "\n",
            "Epoch  85 | Train Loss 4.6117 | Valid Loss 4.4081 | Train Ppl 100.6517 | Valid Ppl 82.1173\n"
          ],
          "name": "stdout"
        },
        {
          "output_type": "stream",
          "text": [
            "100%|██████████| 350/350 [02:16<00:00,  2.83it/s]\n",
            "100%|██████████| 39/39 [00:04<00:00,  7.84it/s]\n",
            "  0%|          | 0/350 [00:00<?, ?it/s]"
          ],
          "name": "stderr"
        },
        {
          "output_type": "stream",
          "text": [
            "Best model so far. Saving model...\n",
            "\n",
            "Epoch  86 | Train Loss 4.6114 | Valid Loss 4.4037 | Train Ppl 100.6259 | Valid Ppl 81.7507\n"
          ],
          "name": "stdout"
        },
        {
          "output_type": "stream",
          "text": [
            "100%|██████████| 350/350 [02:15<00:00,  3.14it/s]\n",
            "100%|██████████| 39/39 [00:04<00:00,  7.86it/s]\n",
            "  0%|          | 0/350 [00:00<?, ?it/s]"
          ],
          "name": "stderr"
        },
        {
          "output_type": "stream",
          "text": [
            "\n",
            "Epoch  87 | Train Loss 4.6097 | Valid Loss 4.4054 | Train Ppl 100.4586 | Valid Ppl 81.8939\n"
          ],
          "name": "stdout"
        },
        {
          "output_type": "stream",
          "text": [
            "100%|██████████| 350/350 [02:15<00:00,  2.91it/s]\n",
            "100%|██████████| 39/39 [00:04<00:00,  8.20it/s]\n",
            "  0%|          | 0/350 [00:00<?, ?it/s]"
          ],
          "name": "stderr"
        },
        {
          "output_type": "stream",
          "text": [
            "\n",
            "Epoch  88 | Train Loss 4.6098 | Valid Loss 4.4078 | Train Ppl 100.4661 | Valid Ppl 82.0914\n"
          ],
          "name": "stdout"
        },
        {
          "output_type": "stream",
          "text": [
            "100%|██████████| 350/350 [02:14<00:00,  2.74it/s]\n",
            "100%|██████████| 39/39 [00:05<00:00,  7.53it/s]\n",
            "  0%|          | 0/350 [00:00<?, ?it/s]"
          ],
          "name": "stderr"
        },
        {
          "output_type": "stream",
          "text": [
            "\n",
            "Epoch  89 | Train Loss 4.6134 | Valid Loss 4.4061 | Train Ppl 100.8294 | Valid Ppl 81.9481\n"
          ],
          "name": "stdout"
        },
        {
          "output_type": "stream",
          "text": [
            "100%|██████████| 350/350 [02:15<00:00,  3.13it/s]\n",
            "100%|██████████| 39/39 [00:04<00:00,  7.82it/s]\n",
            "  0%|          | 0/350 [00:00<?, ?it/s]"
          ],
          "name": "stderr"
        },
        {
          "output_type": "stream",
          "text": [
            "\n",
            "Epoch  90 | Train Loss 4.6132 | Valid Loss 4.4065 | Train Ppl 100.8049 | Valid Ppl 81.9841\n"
          ],
          "name": "stdout"
        },
        {
          "output_type": "stream",
          "text": [
            "100%|██████████| 350/350 [02:15<00:00,  3.25it/s]\n",
            "100%|██████████| 39/39 [00:05<00:00,  7.68it/s]\n",
            "  0%|          | 0/350 [00:00<?, ?it/s]"
          ],
          "name": "stderr"
        },
        {
          "output_type": "stream",
          "text": [
            "\n",
            "Epoch  91 | Train Loss 4.6100 | Valid Loss 4.4047 | Train Ppl 100.4813 | Valid Ppl 81.8346\n"
          ],
          "name": "stdout"
        },
        {
          "output_type": "stream",
          "text": [
            "100%|██████████| 350/350 [02:16<00:00,  2.75it/s]\n",
            "100%|██████████| 39/39 [00:04<00:00,  8.07it/s]\n",
            "  0%|          | 0/350 [00:00<?, ?it/s]"
          ],
          "name": "stderr"
        },
        {
          "output_type": "stream",
          "text": [
            "\n",
            "Epoch  92 | Train Loss 4.6089 | Valid Loss 4.4039 | Train Ppl 100.3711 | Valid Ppl 81.7657\n"
          ],
          "name": "stdout"
        },
        {
          "output_type": "stream",
          "text": [
            "100%|██████████| 350/350 [02:16<00:00,  3.07it/s]\n",
            "100%|██████████| 39/39 [00:05<00:00,  7.63it/s]\n",
            "  0%|          | 0/350 [00:00<?, ?it/s]"
          ],
          "name": "stderr"
        },
        {
          "output_type": "stream",
          "text": [
            "Best model so far. Saving model...\n",
            "\n",
            "Epoch  93 | Train Loss 4.6088 | Valid Loss 4.4032 | Train Ppl 100.3596 | Valid Ppl 81.7112\n"
          ],
          "name": "stdout"
        },
        {
          "output_type": "stream",
          "text": [
            "100%|██████████| 350/350 [02:14<00:00,  3.29it/s]\n",
            "100%|██████████| 39/39 [00:04<00:00,  7.96it/s]\n",
            "  0%|          | 0/350 [00:00<?, ?it/s]"
          ],
          "name": "stderr"
        },
        {
          "output_type": "stream",
          "text": [
            "\n",
            "Epoch  94 | Train Loss 4.6092 | Valid Loss 4.4057 | Train Ppl 100.4065 | Valid Ppl 81.9140\n"
          ],
          "name": "stdout"
        },
        {
          "output_type": "stream",
          "text": [
            "100%|██████████| 350/350 [02:15<00:00,  3.00it/s]\n",
            "100%|██████████| 39/39 [00:04<00:00,  7.81it/s]\n",
            "  0%|          | 0/350 [00:00<?, ?it/s]"
          ],
          "name": "stderr"
        },
        {
          "output_type": "stream",
          "text": [
            "\n",
            "Epoch  95 | Train Loss 4.6077 | Valid Loss 4.4055 | Train Ppl 100.2527 | Valid Ppl 81.9005\n"
          ],
          "name": "stdout"
        },
        {
          "output_type": "stream",
          "text": [
            "100%|██████████| 350/350 [02:14<00:00,  2.93it/s]\n",
            "100%|██████████| 39/39 [00:05<00:00,  7.65it/s]\n",
            "  0%|          | 0/350 [00:00<?, ?it/s]"
          ],
          "name": "stderr"
        },
        {
          "output_type": "stream",
          "text": [
            "\n",
            "Epoch  96 | Train Loss 4.6079 | Valid Loss 4.4060 | Train Ppl 100.2738 | Valid Ppl 81.9431\n"
          ],
          "name": "stdout"
        },
        {
          "output_type": "stream",
          "text": [
            "100%|██████████| 350/350 [02:14<00:00,  3.10it/s]\n",
            "100%|██████████| 39/39 [00:05<00:00,  7.69it/s]\n",
            "  0%|          | 0/350 [00:00<?, ?it/s]"
          ],
          "name": "stderr"
        },
        {
          "output_type": "stream",
          "text": [
            "Best model so far. Saving model...\n",
            "\n",
            "Epoch  97 | Train Loss 4.6071 | Valid Loss 4.3999 | Train Ppl 100.1929 | Valid Ppl 81.4439\n"
          ],
          "name": "stdout"
        },
        {
          "output_type": "stream",
          "text": [
            "100%|██████████| 350/350 [02:15<00:00,  3.25it/s]\n",
            "100%|██████████| 39/39 [00:05<00:00,  7.79it/s]\n",
            "  0%|          | 0/350 [00:00<?, ?it/s]"
          ],
          "name": "stderr"
        },
        {
          "output_type": "stream",
          "text": [
            "\n",
            "Epoch  98 | Train Loss 4.6075 | Valid Loss 4.4035 | Train Ppl 100.2359 | Valid Ppl 81.7347\n"
          ],
          "name": "stdout"
        },
        {
          "output_type": "stream",
          "text": [
            "100%|██████████| 350/350 [02:15<00:00,  3.28it/s]\n",
            "100%|██████████| 39/39 [00:04<00:00,  9.36it/s]\n",
            "  0%|          | 0/350 [00:00<?, ?it/s]"
          ],
          "name": "stderr"
        },
        {
          "output_type": "stream",
          "text": [
            "\n",
            "Epoch  99 | Train Loss 4.6072 | Valid Loss 4.4016 | Train Ppl 100.1996 | Valid Ppl 81.5799\n"
          ],
          "name": "stdout"
        },
        {
          "output_type": "stream",
          "text": [
            "100%|██████████| 350/350 [02:17<00:00,  3.23it/s]\n",
            "100%|██████████| 39/39 [00:04<00:00,  7.87it/s]"
          ],
          "name": "stderr"
        },
        {
          "output_type": "stream",
          "text": [
            "\n",
            "Epoch 100 | Train Loss 4.6059 | Valid Loss 4.4064 | Train Ppl 100.0774 | Valid Ppl 81.9769\n"
          ],
          "name": "stdout"
        },
        {
          "output_type": "stream",
          "text": [
            "\n"
          ],
          "name": "stderr"
        }
      ]
    },
    {
      "metadata": {
        "id": "Ce7eUlNFKsu5",
        "colab_type": "text"
      },
      "cell_type": "markdown",
      "source": [
        "We can see from the curves that the losses converged smoothly. In truth, there is a high chance that the model hasn't *fully* converged yet, but miniscule changes in the training and validation losses from epochs 80 to 100 give us a good indication that we can stop training early as it has reached an acceptable solution."
      ]
    },
    {
      "metadata": {
        "id": "B_8pFjtJLDrq",
        "colab_type": "code",
        "colab": {
          "base_uri": "https://localhost:8080/",
          "height": 286
        },
        "outputId": "12efc646-ccfa-4e2a-af60-69bff0f92193"
      },
      "cell_type": "code",
      "source": [
        "pd.DataFrame(data={'train':train_losses, 'valid':valid_losses}).plot.line()"
      ],
      "execution_count": 8,
      "outputs": [
        {
          "output_type": "execute_result",
          "data": {
            "text/plain": [
              "<matplotlib.axes._subplots.AxesSubplot at 0x7fe668ef3dd8>"
            ]
          },
          "metadata": {
            "tags": []
          },
          "execution_count": 8
        },
        {
          "output_type": "display_data",
          "data": {
            "image/png": "[encoded data removed]",
            "text/plain": [
              "<Figure size 432x288 with 1 Axes>"
            ]
          },
          "metadata": {
            "tags": []
          }
        }
      ]
    },
    {
      "metadata": {
        "id": "q5V3Ed03LL2H",
        "colab_type": "text"
      },
      "cell_type": "markdown",
      "source": [
        "Let's load the best model and check test perplexity.\n",
        "\n",
        "This yields us again better perplexity than our previous model."
      ]
    },
    {
      "metadata": {
        "id": "KHrryLSODFNA",
        "colab_type": "code",
        "colab": {
          "base_uri": "https://localhost:8080/",
          "height": 68
        },
        "outputId": "f83fae66-d2f6-4804-e356-1d298d930d17"
      },
      "cell_type": "code",
      "source": [
        "checkpoint = torch.load('wtlstm-wt2.pth')\n",
        "model.load_state_dict(checkpoint['state_dict'])\n",
        "\n",
        "model.eval()\n",
        "test_loss = 0\n",
        "with torch.no_grad():\n",
        "    for batch in tqdm(test_loader):\n",
        "        x, y = batch.text, batch.target\n",
        "        out = model(x)\n",
        "        loss = criterion(out.flatten(0, 1), y.flatten())\n",
        "\n",
        "        test_loss += loss.item()\n",
        "test_loss /= len(test_loader)\n",
        "test_ppl = np.exp(test_loss)\n",
        "\n",
        "print(\"\\nTest Loss {:.4f} | Test Ppl {:.4f}\".format(test_loss, test_ppl))"
      ],
      "execution_count": 9,
      "outputs": [
        {
          "output_type": "stream",
          "text": [
            "100%|██████████| 44/44 [00:05<00:00,  8.08it/s]"
          ],
          "name": "stderr"
        },
        {
          "output_type": "stream",
          "text": [
            "\n",
            "Test Loss 4.2817 | Test Ppl 72.3656\n"
          ],
          "name": "stdout"
        },
        {
          "output_type": "stream",
          "text": [
            "\n"
          ],
          "name": "stderr"
        }
      ]
    },
    {
      "metadata": {
        "id": "f30X0ga8LSzK",
        "colab_type": "text"
      },
      "cell_type": "markdown",
      "source": [
        "We'll implement beam search to generate text."
      ]
    },
    {
      "metadata": {
        "id": "5MKQzz96DKBp",
        "colab_type": "code",
        "colab": {}
      },
      "cell_type": "code",
      "source": [
        "# This implementation deffo could use some work. I just wrote this\n",
        "# from the top of my head after a couple drinks HAHA. If you see any\n",
        "# errors, don't be afraid to reach out!\n",
        "def get_candidates(text, score, k=5):\n",
        "    s = torch.LongTensor([TEXT.vocab.stoi[w] for w in tokenize(text)]).unsqueeze(0)\n",
        "    out = model(s)\n",
        "    probs = torch.softmax(out.squeeze(0)[-1], dim=0)\n",
        "    scores, indices = torch.topk(probs, k)\n",
        "    words = [TEXT.vocab.itos[i] for i in indices]\n",
        "    checks = set(['<', '>', 'unk', '<eos>', '<sos>', '.', '\"', '=', '(', ')', ','])\n",
        "    candidates = [text + \" \" + c for c in words if c not in checks]\n",
        "    scores = scores * score\n",
        "    return scores, candidates\n",
        "\n",
        "def beam_search(text, n_words, k):\n",
        "    scores, cands = get_candidates(text, 1)\n",
        "    for i in tqdm(range(n_words)):\n",
        "        ncands = []\n",
        "        nscores = []\n",
        "        for s, c in zip(scores, cands):\n",
        "          ns, nc = get_candidates(c, s, k=k)\n",
        "          ncands.extend(nc)\n",
        "          nscores.extend(ns)\n",
        "        scores = []\n",
        "        cands = []\n",
        "        for c, s in sorted(list(zip(ncands, nscores)), key=lambda x: x[1], reverse=True)[:k]:\n",
        "          scores.append(s)\n",
        "          cands.append(c)\n",
        "    return cands[0]"
      ],
      "execution_count": 0,
      "outputs": []
    },
    {
      "metadata": {
        "id": "LLkn-qxFLWcR",
        "colab_type": "text"
      },
      "cell_type": "markdown",
      "source": [
        "And try it out."
      ]
    },
    {
      "metadata": {
        "id": "RhLSXXp8DU_W",
        "colab_type": "code",
        "colab": {
          "base_uri": "https://localhost:8080/",
          "height": 128
        },
        "outputId": "9b9a47ca-51f8-49f0-cfec-38392597f7a9"
      },
      "cell_type": "code",
      "source": [
        "n_words = 30\n",
        "k = 10\n",
        "text = \"Fell out of bed butterfly bandaged but dont worry\"\n",
        "model.cpu();\n",
        "\n",
        "out = beam_search(text, n_words, k)\n",
        "print('\\n' + out)"
      ],
      "execution_count": 23,
      "outputs": [
        {
          "output_type": "stream",
          "text": [
            "100%|██████████| 30/30 [00:22<00:00,  1.05s/it]"
          ],
          "name": "stderr"
        },
        {
          "output_type": "stream",
          "text": [
            "\n",
            "Fell out of bed butterfly bandaged but dont worry to make it is an end in the first to make it has become an attempt from an end the united of the first of a @-@ based with the first\n"
          ],
          "name": "stdout"
        },
        {
          "output_type": "stream",
          "text": [
            "\n"
          ],
          "name": "stderr"
        }
      ]
    },
    {
      "metadata": {
        "id": "aLQCNup3LZs8",
        "colab_type": "text"
      },
      "cell_type": "markdown",
      "source": [
        "In the next notebook, we'll move away from LSTM-based models for now and try out something new. We'll also look a little more in depth at the recurrence being done by the RNN unit we use."
      ]
    },
    {
      "metadata": {
        "id": "3UHWMBbPDWd_",
        "colab_type": "code",
        "colab": {}
      },
      "cell_type": "code",
      "source": [
        ""
      ],
      "execution_count": 0,
      "outputs": []
    }
  ]
}